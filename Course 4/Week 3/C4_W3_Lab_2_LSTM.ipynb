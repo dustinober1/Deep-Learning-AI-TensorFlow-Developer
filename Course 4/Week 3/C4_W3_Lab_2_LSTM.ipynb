{
  "cells": [
    {
      "cell_type": "markdown",
      "metadata": {
        "id": "sV_nvXSQGJPK"
      },
      "source": [
        "# Ungraded Lab: Using a multi-layer LSTM for forecasting\n",
        "\n",
        "In this lab, you will use the same RNN architecure in the first lab but will instead stack [LSTM](https://www.tensorflow.org/api_docs/python/tf/keras/layers/LSTM) layers instead of `SimpleRNN`."
      ]
    },
    {
      "cell_type": "markdown",
      "metadata": {
        "id": "3IMbAWETGOWD"
      },
      "source": [
        "## Imports"
      ]
    },
    {
      "cell_type": "code",
      "execution_count": 1,
      "metadata": {
        "id": "BOjujz601HcS"
      },
      "outputs": [],
      "source": [
        "import tensorflow as tf\n",
        "import numpy as np\n",
        "import matplotlib.pyplot as plt"
      ]
    },
    {
      "cell_type": "markdown",
      "metadata": {
        "id": "kD7RQQ0xGQVH"
      },
      "source": [
        "## Utilities"
      ]
    },
    {
      "cell_type": "code",
      "execution_count": 2,
      "metadata": {
        "id": "Zswl7jRtGzkk"
      },
      "outputs": [],
      "source": [
        "def plot_series(time, series, format=\"-\", start=0, end=None):\n",
        "    \"\"\"\n",
        "    Visualizes time series data\n",
        "\n",
        "    Args:\n",
        "      time (array of int) - contains the time steps\n",
        "      series (array of int) - contains the measurements for each time step\n",
        "      format - line style when plotting the graph\n",
        "      start - first time step to plot\n",
        "      end - last time step to plot\n",
        "    \"\"\"\n",
        "\n",
        "    # Setup dimensions of the graph figure\n",
        "    plt.figure(figsize=(10, 6))\n",
        "    \n",
        "    if type(series) is tuple:\n",
        "\n",
        "      for series_num in series:\n",
        "        # Plot the time series data\n",
        "        plt.plot(time[start:end], series_num[start:end], format)\n",
        "\n",
        "    else:\n",
        "      # Plot the time series data\n",
        "      plt.plot(time[start:end], series[start:end], format)\n",
        "\n",
        "    # Label the x-axis\n",
        "    plt.xlabel(\"Time\")\n",
        "\n",
        "    # Label the y-axis\n",
        "    plt.ylabel(\"Value\")\n",
        "\n",
        "    # Overlay a grid on the graph\n",
        "    plt.grid(True)\n",
        "\n",
        "    # Draw the graph on screen\n",
        "    plt.show()\n",
        "\n",
        "def trend(time, slope=0):\n",
        "    \"\"\"\n",
        "    Generates synthetic data that follows a straight line given a slope value.\n",
        "\n",
        "    Args:\n",
        "      time (array of int) - contains the time steps\n",
        "      slope (float) - determines the direction and steepness of the line\n",
        "\n",
        "    Returns:\n",
        "      series (array of float) - measurements that follow a straight line\n",
        "    \"\"\"\n",
        "\n",
        "    # Compute the linear series given the slope\n",
        "    series = slope * time\n",
        "\n",
        "    return series\n",
        "\n",
        "def seasonal_pattern(season_time):\n",
        "    \"\"\"\n",
        "    Just an arbitrary pattern, you can change it if you wish\n",
        "    \n",
        "    Args:\n",
        "      season_time (array of float) - contains the measurements per time step\n",
        "\n",
        "    Returns:\n",
        "      data_pattern (array of float) -  contains revised measurement values according \n",
        "                                  to the defined pattern\n",
        "    \"\"\"\n",
        "\n",
        "    # Generate the values using an arbitrary pattern\n",
        "    data_pattern = np.where(season_time < 0.4,\n",
        "                    np.cos(season_time * 2 * np.pi),\n",
        "                    1 / np.exp(3 * season_time))\n",
        "    \n",
        "    return data_pattern\n",
        "\n",
        "def seasonality(time, period, amplitude=1, phase=0):\n",
        "    \"\"\"\n",
        "    Repeats the same pattern at each period\n",
        "\n",
        "    Args:\n",
        "      time (array of int) - contains the time steps\n",
        "      period (int) - number of time steps before the pattern repeats\n",
        "      amplitude (int) - peak measured value in a period\n",
        "      phase (int) - number of time steps to shift the measured values\n",
        "\n",
        "    Returns:\n",
        "      data_pattern (array of float) - seasonal data scaled by the defined amplitude\n",
        "    \"\"\"\n",
        "    \n",
        "    # Define the measured values per period\n",
        "    season_time = ((time + phase) % period) / period\n",
        "\n",
        "    # Generates the seasonal data scaled by the defined amplitude\n",
        "    data_pattern = amplitude * seasonal_pattern(season_time)\n",
        "\n",
        "    return data_pattern\n",
        "\n",
        "def noise(time, noise_level=1, seed=None):\n",
        "    \"\"\"Generates a normally distributed noisy signal\n",
        "\n",
        "    Args:\n",
        "      time (array of int) - contains the time steps\n",
        "      noise_level (float) - scaling factor for the generated signal\n",
        "      seed (int) - number generator seed for repeatability\n",
        "\n",
        "    Returns:\n",
        "      noise (array of float) - the noisy signal\n",
        "    \"\"\"\n",
        "\n",
        "    # Initialize the random number generator\n",
        "    rnd = np.random.RandomState(seed)\n",
        "\n",
        "    # Generate a random number for each time step and scale by the noise level\n",
        "    noise = rnd.randn(len(time)) * noise_level\n",
        "    \n",
        "    return noise"
      ]
    },
    {
      "cell_type": "markdown",
      "metadata": {
        "id": "yxNyeFWjGSdj"
      },
      "source": [
        "## Generate the Synthetic Data"
      ]
    },
    {
      "cell_type": "code",
      "execution_count": 3,
      "metadata": {
        "id": "KYEUfDbdpHPm",
        "colab": {
          "base_uri": "https://localhost:8080/",
          "height": 388
        },
        "outputId": "0659f70f-3263-44be-edcc-868cc312cc76"
      },
      "outputs": [
        {
          "output_type": "display_data",
          "data": {
            "text/plain": [
              "<Figure size 720x432 with 1 Axes>"
            ],
            "image/png": "[encoded data removed]"
          },
          "metadata": {
            "needs_background": "light"
          }
        }
      ],
      "source": [
        "# Parameters\n",
        "time = np.arange(4 * 365 + 1, dtype=\"float32\")\n",
        "baseline = 10\n",
        "amplitude = 40\n",
        "slope = 0.05\n",
        "noise_level = 5\n",
        "\n",
        "# Create the series\n",
        "series = baseline + trend(time, slope) + seasonality(time, period=365, amplitude=amplitude)\n",
        "\n",
        "# Update with noise\n",
        "series += noise(time, noise_level, seed=42)\n",
        "\n",
        "# Plot the results\n",
        "plot_series(time, series)"
      ]
    },
    {
      "cell_type": "markdown",
      "metadata": {
        "id": "MYKCvv-eGWRc"
      },
      "source": [
        "## Split the Dataset"
      ]
    },
    {
      "cell_type": "code",
      "execution_count": 4,
      "metadata": {
        "id": "hpp0slenpKVD"
      },
      "outputs": [],
      "source": [
        "# Define the split time\n",
        "split_time = 1000\n",
        "\n",
        "# Get the train set \n",
        "time_train = time[:split_time]\n",
        "x_train = series[:split_time]\n",
        "\n",
        "# Get the validation set\n",
        "time_valid = time[split_time:]\n",
        "x_valid = series[split_time:]"
      ]
    },
    {
      "cell_type": "markdown",
      "metadata": {
        "id": "cktHz9aOGYtV"
      },
      "source": [
        "## Prepare Features and Labels"
      ]
    },
    {
      "cell_type": "code",
      "execution_count": 5,
      "metadata": {
        "id": "G_j_2_Mqwn7-"
      },
      "outputs": [],
      "source": [
        "# Parameters\n",
        "window_size = 20\n",
        "batch_size = 32\n",
        "shuffle_buffer_size = 1000"
      ]
    },
    {
      "cell_type": "code",
      "execution_count": 6,
      "metadata": {
        "id": "4sTTIOCbyShY"
      },
      "outputs": [],
      "source": [
        "def windowed_dataset(series, window_size, batch_size, shuffle_buffer):\n",
        "    \"\"\"Generates dataset windows\n",
        "\n",
        "    Args:\n",
        "      series (array of float) - contains the values of the time series\n",
        "      window_size (int) - the number of time steps to include in the feature\n",
        "      batch_size (int) - the batch size\n",
        "      shuffle_buffer(int) - buffer size to use for the shuffle method\n",
        "\n",
        "    Returns:\n",
        "      dataset (TF Dataset) - TF Dataset containing time windows\n",
        "    \"\"\"\n",
        "  \n",
        "    # Generate a TF Dataset from the series values\n",
        "    dataset = tf.data.Dataset.from_tensor_slices(series)\n",
        "    \n",
        "    # Window the data but only take those with the specified size\n",
        "    dataset = dataset.window(window_size + 1, shift=1, drop_remainder=True)\n",
        "    \n",
        "    # Flatten the windows by putting its elements in a single batch\n",
        "    dataset = dataset.flat_map(lambda window: window.batch(window_size + 1))\n",
        "\n",
        "    # Create tuples with features and labels \n",
        "    dataset = dataset.map(lambda window: (window[:-1], window[-1]))\n",
        "\n",
        "    # Shuffle the windows\n",
        "    dataset = dataset.shuffle(shuffle_buffer)\n",
        "    \n",
        "    # Create batches of windows\n",
        "    dataset = dataset.batch(batch_size).prefetch(1)\n",
        "    \n",
        "    return dataset"
      ]
    },
    {
      "cell_type": "code",
      "execution_count": 7,
      "metadata": {
        "id": "vGj5-InSwtQQ"
      },
      "outputs": [],
      "source": [
        "# Generate the dataset windows\n",
        "dataset = windowed_dataset(x_train, window_size, batch_size, shuffle_buffer_size)"
      ]
    },
    {
      "cell_type": "markdown",
      "metadata": {
        "id": "p9-Ke8ZaGcjd"
      },
      "source": [
        "## Build the Model\n",
        "\n",
        "As mentioned, you will swap `SimpleRNN` for `LSTM` in this lab. It is also set as bidirectional below but feel free to revise later and see what results you get. LSTMs are much more complex in their internal architecture than simpleRNNs. It implements a cell state that allows it to remember sequences better than simple implementations. This added complexity results in a bigger set of parameters to train and you'll see that when you print the model summary below."
      ]
    },
    {
      "cell_type": "code",
      "execution_count": 8,
      "metadata": {
        "id": "A1Hl39rklkLm",
        "colab": {
          "base_uri": "https://localhost:8080/"
        },
        "outputId": "6bb03f84-5072-4cc8-ea2d-c79f758a1524"
      },
      "outputs": [
        {
          "output_type": "stream",
          "name": "stdout",
          "text": [
            "Model: \"sequential\"\n",
            "_________________________________________________________________\n",
            " Layer (type)                Output Shape              Param #   \n",
            "=================================================================\n",
            " lambda (Lambda)             (None, 20, 1)             0         \n",
            "                                                                 \n",
            " bidirectional (Bidirectiona  (None, 20, 64)           8704      \n",
            " l)                                                              \n",
            "                                                                 \n",
            " bidirectional_1 (Bidirectio  (None, 64)               24832     \n",
            " nal)                                                            \n",
            "                                                                 \n",
            " dense (Dense)               (None, 1)                 65        \n",
            "                                                                 \n",
            " lambda_1 (Lambda)           (None, 1)                 0         \n",
            "                                                                 \n",
            "=================================================================\n",
            "Total params: 33,601\n",
            "Trainable params: 33,601\n",
            "Non-trainable params: 0\n",
            "_________________________________________________________________\n"
          ]
        }
      ],
      "source": [
        "# Build the Model\n",
        "model_tune = tf.keras.models.Sequential([\n",
        "  tf.keras.layers.Lambda(lambda x: tf.expand_dims(x, axis=-1),\n",
        "                      input_shape=[window_size]),\n",
        "    tf.keras.layers.Bidirectional(tf.keras.layers.LSTM(32, return_sequences=True)),\n",
        "  tf.keras.layers.Bidirectional(tf.keras.layers.LSTM(32)),\n",
        "  tf.keras.layers.Dense(1),\n",
        "  tf.keras.layers.Lambda(lambda x: x * 100.0)\n",
        "])\n",
        "\n",
        "# Print the model summary\n",
        "model_tune.summary()"
      ]
    },
    {
      "cell_type": "markdown",
      "metadata": {
        "id": "FHaFblbwq0GV"
      },
      "source": [
        "## Tune the Learning Rate\n",
        "\n",
        "As usual, you will pick a learning rate by running the tuning code below."
      ]
    },
    {
      "cell_type": "code",
      "execution_count": 9,
      "metadata": {
        "id": "qE7al18qw48G",
        "colab": {
          "base_uri": "https://localhost:8080/"
        },
        "outputId": "6998ce12-7f3e-4d76-ebb3-3c3923c347a9"
      },
      "outputs": [
        {
          "output_type": "stream",
          "name": "stdout",
          "text": [
            "Epoch 1/100\n",
            "31/31 [==============================] - 14s 20ms/step - loss: 96.7160 - lr: 1.0000e-08\n",
            "Epoch 2/100\n",
            "31/31 [==============================] - 0s 10ms/step - loss: 95.7212 - lr: 1.1220e-08\n",
            "Epoch 3/100\n",
            "31/31 [==============================] - 0s 10ms/step - loss: 94.5119 - lr: 1.2589e-08\n",
            "Epoch 4/100\n",
            "31/31 [==============================] - 0s 10ms/step - loss: 93.1553 - lr: 1.4125e-08\n",
            "Epoch 5/100\n",
            "31/31 [==============================] - 0s 10ms/step - loss: 91.6242 - lr: 1.5849e-08\n",
            "Epoch 6/100\n",
            "31/31 [==============================] - 0s 10ms/step - loss: 89.9045 - lr: 1.7783e-08\n",
            "Epoch 7/100\n",
            "31/31 [==============================] - 0s 9ms/step - loss: 87.9625 - lr: 1.9953e-08\n",
            "Epoch 8/100\n",
            "31/31 [==============================] - 0s 10ms/step - loss: 85.7784 - lr: 2.2387e-08\n",
            "Epoch 9/100\n",
            "31/31 [==============================] - 0s 10ms/step - loss: 83.3084 - lr: 2.5119e-08\n",
            "Epoch 10/100\n",
            "31/31 [==============================] - 0s 10ms/step - loss: 80.5201 - lr: 2.8184e-08\n",
            "Epoch 11/100\n",
            "31/31 [==============================] - 0s 10ms/step - loss: 77.3738 - lr: 3.1623e-08\n",
            "Epoch 12/100\n",
            "31/31 [==============================] - 0s 10ms/step - loss: 73.8232 - lr: 3.5481e-08\n",
            "Epoch 13/100\n",
            "31/31 [==============================] - 0s 10ms/step - loss: 69.8410 - lr: 3.9811e-08\n",
            "Epoch 14/100\n",
            "31/31 [==============================] - 0s 10ms/step - loss: 65.3826 - lr: 4.4668e-08\n",
            "Epoch 15/100\n",
            "31/31 [==============================] - 0s 10ms/step - loss: 60.4752 - lr: 5.0119e-08\n",
            "Epoch 16/100\n",
            "31/31 [==============================] - 0s 10ms/step - loss: 55.1106 - lr: 5.6234e-08\n",
            "Epoch 17/100\n",
            "31/31 [==============================] - 0s 10ms/step - loss: 49.3246 - lr: 6.3096e-08\n",
            "Epoch 18/100\n",
            "31/31 [==============================] - 0s 10ms/step - loss: 43.1405 - lr: 7.0795e-08\n",
            "Epoch 19/100\n",
            "31/31 [==============================] - 0s 10ms/step - loss: 36.5354 - lr: 7.9433e-08\n",
            "Epoch 20/100\n",
            "31/31 [==============================] - 0s 10ms/step - loss: 29.5348 - lr: 8.9125e-08\n",
            "Epoch 21/100\n",
            "31/31 [==============================] - 0s 10ms/step - loss: 22.7184 - lr: 1.0000e-07\n",
            "Epoch 22/100\n",
            "31/31 [==============================] - 0s 10ms/step - loss: 17.6911 - lr: 1.1220e-07\n",
            "Epoch 23/100\n",
            "31/31 [==============================] - 0s 10ms/step - loss: 15.3016 - lr: 1.2589e-07\n",
            "Epoch 24/100\n",
            "31/31 [==============================] - 0s 11ms/step - loss: 14.3022 - lr: 1.4125e-07\n",
            "Epoch 25/100\n",
            "31/31 [==============================] - 0s 10ms/step - loss: 13.7612 - lr: 1.5849e-07\n",
            "Epoch 26/100\n",
            "31/31 [==============================] - 0s 10ms/step - loss: 13.4188 - lr: 1.7783e-07\n",
            "Epoch 27/100\n",
            "31/31 [==============================] - 0s 10ms/step - loss: 13.1359 - lr: 1.9953e-07\n",
            "Epoch 28/100\n",
            "31/31 [==============================] - 0s 10ms/step - loss: 12.8538 - lr: 2.2387e-07\n",
            "Epoch 29/100\n",
            "31/31 [==============================] - 0s 10ms/step - loss: 12.5560 - lr: 2.5119e-07\n",
            "Epoch 30/100\n",
            "31/31 [==============================] - 0s 10ms/step - loss: 12.2141 - lr: 2.8184e-07\n",
            "Epoch 31/100\n",
            "31/31 [==============================] - 0s 10ms/step - loss: 11.8540 - lr: 3.1623e-07\n",
            "Epoch 32/100\n",
            "31/31 [==============================] - 0s 10ms/step - loss: 11.4544 - lr: 3.5481e-07\n",
            "Epoch 33/100\n",
            "31/31 [==============================] - 0s 10ms/step - loss: 10.9991 - lr: 3.9811e-07\n",
            "Epoch 34/100\n",
            "31/31 [==============================] - 0s 10ms/step - loss: 10.5072 - lr: 4.4668e-07\n",
            "Epoch 35/100\n",
            "31/31 [==============================] - 0s 10ms/step - loss: 9.9830 - lr: 5.0119e-07\n",
            "Epoch 36/100\n",
            "31/31 [==============================] - 1s 10ms/step - loss: 9.4293 - lr: 5.6234e-07\n",
            "Epoch 37/100\n",
            "31/31 [==============================] - 0s 10ms/step - loss: 8.9144 - lr: 6.3096e-07\n",
            "Epoch 38/100\n",
            "31/31 [==============================] - 0s 10ms/step - loss: 8.4839 - lr: 7.0795e-07\n",
            "Epoch 39/100\n",
            "31/31 [==============================] - 0s 10ms/step - loss: 8.1488 - lr: 7.9433e-07\n",
            "Epoch 40/100\n",
            "31/31 [==============================] - 0s 10ms/step - loss: 7.9361 - lr: 8.9125e-07\n",
            "Epoch 41/100\n",
            "31/31 [==============================] - 0s 10ms/step - loss: 7.6863 - lr: 1.0000e-06\n",
            "Epoch 42/100\n",
            "31/31 [==============================] - 0s 10ms/step - loss: 7.4860 - lr: 1.1220e-06\n",
            "Epoch 43/100\n",
            "31/31 [==============================] - 0s 10ms/step - loss: 7.3778 - lr: 1.2589e-06\n",
            "Epoch 44/100\n",
            "31/31 [==============================] - 0s 10ms/step - loss: 7.3137 - lr: 1.4125e-06\n",
            "Epoch 45/100\n",
            "31/31 [==============================] - 0s 10ms/step - loss: 7.0449 - lr: 1.5849e-06\n",
            "Epoch 46/100\n",
            "31/31 [==============================] - 0s 10ms/step - loss: 6.9231 - lr: 1.7783e-06\n",
            "Epoch 47/100\n",
            "31/31 [==============================] - 0s 10ms/step - loss: 6.7693 - lr: 1.9953e-06\n",
            "Epoch 48/100\n",
            "31/31 [==============================] - 0s 10ms/step - loss: 6.7199 - lr: 2.2387e-06\n",
            "Epoch 49/100\n",
            "31/31 [==============================] - 0s 10ms/step - loss: 6.6360 - lr: 2.5119e-06\n",
            "Epoch 50/100\n",
            "31/31 [==============================] - 0s 10ms/step - loss: 6.4795 - lr: 2.8184e-06\n",
            "Epoch 51/100\n",
            "31/31 [==============================] - 0s 10ms/step - loss: 6.4744 - lr: 3.1623e-06\n",
            "Epoch 52/100\n",
            "31/31 [==============================] - 0s 10ms/step - loss: 6.3299 - lr: 3.5481e-06\n",
            "Epoch 53/100\n",
            "31/31 [==============================] - 0s 10ms/step - loss: 6.0981 - lr: 3.9811e-06\n",
            "Epoch 54/100\n",
            "31/31 [==============================] - 0s 10ms/step - loss: 6.0027 - lr: 4.4668e-06\n",
            "Epoch 55/100\n",
            "31/31 [==============================] - 0s 10ms/step - loss: 5.9369 - lr: 5.0119e-06\n",
            "Epoch 56/100\n",
            "31/31 [==============================] - 0s 10ms/step - loss: 5.8663 - lr: 5.6234e-06\n",
            "Epoch 57/100\n",
            "31/31 [==============================] - 0s 10ms/step - loss: 5.7197 - lr: 6.3096e-06\n",
            "Epoch 58/100\n",
            "31/31 [==============================] - 0s 10ms/step - loss: 5.6923 - lr: 7.0795e-06\n",
            "Epoch 59/100\n",
            "31/31 [==============================] - 0s 10ms/step - loss: 5.4138 - lr: 7.9433e-06\n",
            "Epoch 60/100\n",
            "31/31 [==============================] - 0s 10ms/step - loss: 5.4527 - lr: 8.9125e-06\n",
            "Epoch 61/100\n",
            "31/31 [==============================] - 0s 10ms/step - loss: 6.4058 - lr: 1.0000e-05\n",
            "Epoch 62/100\n",
            "31/31 [==============================] - 0s 10ms/step - loss: 5.2214 - lr: 1.1220e-05\n",
            "Epoch 63/100\n",
            "31/31 [==============================] - 0s 10ms/step - loss: 5.0868 - lr: 1.2589e-05\n",
            "Epoch 64/100\n",
            "31/31 [==============================] - 0s 10ms/step - loss: 5.9914 - lr: 1.4125e-05\n",
            "Epoch 65/100\n",
            "31/31 [==============================] - 0s 10ms/step - loss: 5.5398 - lr: 1.5849e-05\n",
            "Epoch 66/100\n",
            "31/31 [==============================] - 0s 10ms/step - loss: 5.4296 - lr: 1.7783e-05\n",
            "Epoch 67/100\n",
            "31/31 [==============================] - 0s 10ms/step - loss: 5.0756 - lr: 1.9953e-05\n",
            "Epoch 68/100\n",
            "31/31 [==============================] - 0s 10ms/step - loss: 5.1561 - lr: 2.2387e-05\n",
            "Epoch 69/100\n",
            "31/31 [==============================] - 0s 10ms/step - loss: 5.2532 - lr: 2.5119e-05\n",
            "Epoch 70/100\n",
            "31/31 [==============================] - 0s 10ms/step - loss: 5.0767 - lr: 2.8184e-05\n",
            "Epoch 71/100\n",
            "31/31 [==============================] - 0s 10ms/step - loss: 5.3818 - lr: 3.1623e-05\n",
            "Epoch 72/100\n",
            "31/31 [==============================] - 0s 10ms/step - loss: 6.1635 - lr: 3.5481e-05\n",
            "Epoch 73/100\n",
            "31/31 [==============================] - 0s 10ms/step - loss: 5.5163 - lr: 3.9811e-05\n",
            "Epoch 74/100\n",
            "31/31 [==============================] - 0s 10ms/step - loss: 5.3808 - lr: 4.4668e-05\n",
            "Epoch 75/100\n",
            "31/31 [==============================] - 0s 10ms/step - loss: 5.4410 - lr: 5.0119e-05\n",
            "Epoch 76/100\n",
            "31/31 [==============================] - 0s 10ms/step - loss: 5.3727 - lr: 5.6234e-05\n",
            "Epoch 77/100\n",
            "31/31 [==============================] - 0s 10ms/step - loss: 5.8237 - lr: 6.3096e-05\n",
            "Epoch 78/100\n",
            "31/31 [==============================] - 0s 10ms/step - loss: 5.4294 - lr: 7.0795e-05\n",
            "Epoch 79/100\n",
            "31/31 [==============================] - 0s 10ms/step - loss: 7.7765 - lr: 7.9433e-05\n",
            "Epoch 80/100\n",
            "31/31 [==============================] - 0s 10ms/step - loss: 7.2633 - lr: 8.9125e-05\n",
            "Epoch 81/100\n",
            "31/31 [==============================] - 0s 10ms/step - loss: 8.7974 - lr: 1.0000e-04\n",
            "Epoch 82/100\n",
            "31/31 [==============================] - 0s 10ms/step - loss: 6.0911 - lr: 1.1220e-04\n",
            "Epoch 83/100\n",
            "31/31 [==============================] - 0s 10ms/step - loss: 6.4930 - lr: 1.2589e-04\n",
            "Epoch 84/100\n",
            "31/31 [==============================] - 0s 10ms/step - loss: 7.1582 - lr: 1.4125e-04\n",
            "Epoch 85/100\n",
            "31/31 [==============================] - 0s 10ms/step - loss: 7.0190 - lr: 1.5849e-04\n",
            "Epoch 86/100\n",
            "31/31 [==============================] - 0s 10ms/step - loss: 9.9542 - lr: 1.7783e-04\n",
            "Epoch 87/100\n",
            "31/31 [==============================] - 0s 10ms/step - loss: 10.1707 - lr: 1.9953e-04\n",
            "Epoch 88/100\n",
            "31/31 [==============================] - 0s 10ms/step - loss: 11.6251 - lr: 2.2387e-04\n",
            "Epoch 89/100\n",
            "31/31 [==============================] - 0s 10ms/step - loss: 7.3201 - lr: 2.5119e-04\n",
            "Epoch 90/100\n",
            "31/31 [==============================] - 0s 10ms/step - loss: 8.0168 - lr: 2.8184e-04\n",
            "Epoch 91/100\n",
            "31/31 [==============================] - 0s 10ms/step - loss: 6.2464 - lr: 3.1623e-04\n",
            "Epoch 92/100\n",
            "31/31 [==============================] - 0s 10ms/step - loss: 8.6238 - lr: 3.5481e-04\n",
            "Epoch 93/100\n",
            "31/31 [==============================] - 0s 10ms/step - loss: 8.5147 - lr: 3.9811e-04\n",
            "Epoch 94/100\n",
            "31/31 [==============================] - 0s 10ms/step - loss: 8.1473 - lr: 4.4668e-04\n",
            "Epoch 95/100\n",
            "31/31 [==============================] - 0s 10ms/step - loss: 8.3013 - lr: 5.0119e-04\n",
            "Epoch 96/100\n",
            "31/31 [==============================] - 0s 10ms/step - loss: 12.2106 - lr: 5.6234e-04\n",
            "Epoch 97/100\n",
            "31/31 [==============================] - 0s 10ms/step - loss: 15.0608 - lr: 6.3096e-04\n",
            "Epoch 98/100\n",
            "31/31 [==============================] - 0s 10ms/step - loss: 13.8191 - lr: 7.0795e-04\n",
            "Epoch 99/100\n",
            "31/31 [==============================] - 0s 10ms/step - loss: 12.6900 - lr: 7.9433e-04\n",
            "Epoch 100/100\n",
            "31/31 [==============================] - 0s 10ms/step - loss: 13.1913 - lr: 8.9125e-04\n"
          ]
        }
      ],
      "source": [
        "# Set the learning rate scheduler\n",
        "lr_schedule = tf.keras.callbacks.LearningRateScheduler(\n",
        "    lambda epoch: 1e-8 * 10**(epoch / 20))\n",
        "\n",
        "# Initialize the optimizer\n",
        "optimizer = tf.keras.optimizers.SGD(momentum=0.9)\n",
        "\n",
        "# Set the training parameters\n",
        "model_tune.compile(loss=tf.keras.losses.Huber(), optimizer=optimizer)\n",
        "\n",
        "# Train the model\n",
        "history = model_tune.fit(dataset, epochs=100, callbacks=[lr_schedule])"
      ]
    },
    {
      "cell_type": "code",
      "execution_count": 10,
      "metadata": {
        "id": "AkBsrsXMzoWR",
        "colab": {
          "base_uri": "https://localhost:8080/",
          "height": 405
        },
        "outputId": "99933d01-5cfe-4fe6-d398-6efcba5bdbf3"
      },
      "outputs": [
        {
          "output_type": "execute_result",
          "data": {
            "text/plain": [
              "(1e-08, 0.001, 0.0, 30.0)"
            ]
          },
          "metadata": {},
          "execution_count": 10
        },
        {
          "output_type": "display_data",
          "data": {
            "text/plain": [
              "<Figure size 720x432 with 1 Axes>"
            ],
            "image/png": "[encoded data removed]"
          },
          "metadata": {
            "needs_background": "light"
          }
        }
      ],
      "source": [
        "# Define the learning rate array\n",
        "lrs = 1e-8 * (10 ** (np.arange(100) / 20))\n",
        "\n",
        "# Set the figure size\n",
        "plt.figure(figsize=(10, 6))\n",
        "\n",
        "# Set the grid\n",
        "plt.grid(True)\n",
        "\n",
        "# Plot the loss in log scale\n",
        "plt.semilogx(lrs, history.history[\"loss\"])\n",
        "\n",
        "# Increase the tickmarks size\n",
        "plt.tick_params('both', length=10, width=1, which='both')\n",
        "\n",
        "# Set the plot boundaries\n",
        "plt.axis([1e-8, 1e-3, 0, 30])"
      ]
    },
    {
      "cell_type": "markdown",
      "metadata": {
        "id": "i-lKNp4pq_w8"
      },
      "source": [
        "## Train the Model\n",
        "\n",
        "You can then proceed to train the model with your chosen learning rate. \n",
        "\n",
        "*Tip: When experimenting and you find yourself running different iterations of a model, you may want to use the [`clear_session()`](https://www.tensorflow.org/api_docs/python/tf/keras/backend/clear_session) method to declutter memory used by Keras. This is added in the first line below.*\n"
      ]
    },
    {
      "cell_type": "code",
      "execution_count": 11,
      "metadata": {
        "id": "4uh-97bpLZCA",
        "colab": {
          "base_uri": "https://localhost:8080/"
        },
        "outputId": "9ef04674-23ba-450f-ac05-20e1c94c2238"
      },
      "outputs": [
        {
          "output_type": "stream",
          "name": "stdout",
          "text": [
            "Epoch 1/100\n",
            "31/31 [==============================] - 6s 11ms/step - loss: 12.4591 - mae: 12.9518\n",
            "Epoch 2/100\n",
            "31/31 [==============================] - 0s 10ms/step - loss: 9.2614 - mae: 9.7502\n",
            "Epoch 3/100\n",
            "31/31 [==============================] - 0s 10ms/step - loss: 7.4520 - mae: 7.9367\n",
            "Epoch 4/100\n",
            "31/31 [==============================] - 0s 10ms/step - loss: 6.5691 - mae: 7.0483\n",
            "Epoch 5/100\n",
            "31/31 [==============================] - 0s 10ms/step - loss: 6.6964 - mae: 7.1798\n",
            "Epoch 6/100\n",
            "31/31 [==============================] - 0s 10ms/step - loss: 6.1421 - mae: 6.6226\n",
            "Epoch 7/100\n",
            "31/31 [==============================] - 0s 10ms/step - loss: 6.3383 - mae: 6.8189\n",
            "Epoch 8/100\n",
            "31/31 [==============================] - 0s 10ms/step - loss: 6.1070 - mae: 6.5882\n",
            "Epoch 9/100\n",
            "31/31 [==============================] - 0s 10ms/step - loss: 6.0122 - mae: 6.4927\n",
            "Epoch 10/100\n",
            "31/31 [==============================] - 0s 10ms/step - loss: 5.6497 - mae: 6.1296\n",
            "Epoch 11/100\n",
            "31/31 [==============================] - 0s 10ms/step - loss: 5.5540 - mae: 6.0312\n",
            "Epoch 12/100\n",
            "31/31 [==============================] - 0s 10ms/step - loss: 5.5959 - mae: 6.0765\n",
            "Epoch 13/100\n",
            "31/31 [==============================] - 0s 10ms/step - loss: 5.4420 - mae: 5.9207\n",
            "Epoch 14/100\n",
            "31/31 [==============================] - 0s 10ms/step - loss: 5.2417 - mae: 5.7165\n",
            "Epoch 15/100\n",
            "31/31 [==============================] - 0s 10ms/step - loss: 5.1892 - mae: 5.6687\n",
            "Epoch 16/100\n",
            "31/31 [==============================] - 0s 10ms/step - loss: 5.0708 - mae: 5.5491\n",
            "Epoch 17/100\n",
            "31/31 [==============================] - 0s 11ms/step - loss: 5.1646 - mae: 5.6435\n",
            "Epoch 18/100\n",
            "31/31 [==============================] - 0s 10ms/step - loss: 4.9796 - mae: 5.4585\n",
            "Epoch 19/100\n",
            "31/31 [==============================] - 0s 10ms/step - loss: 5.1483 - mae: 5.6281\n",
            "Epoch 20/100\n",
            "31/31 [==============================] - 0s 10ms/step - loss: 4.9774 - mae: 5.4537\n",
            "Epoch 21/100\n",
            "31/31 [==============================] - 0s 10ms/step - loss: 4.9091 - mae: 5.3878\n",
            "Epoch 22/100\n",
            "31/31 [==============================] - 0s 10ms/step - loss: 4.8204 - mae: 5.2960\n",
            "Epoch 23/100\n",
            "31/31 [==============================] - 0s 10ms/step - loss: 4.7934 - mae: 5.2703\n",
            "Epoch 24/100\n",
            "31/31 [==============================] - 0s 10ms/step - loss: 4.8278 - mae: 5.3074\n",
            "Epoch 25/100\n",
            "31/31 [==============================] - 0s 10ms/step - loss: 5.1327 - mae: 5.6132\n",
            "Epoch 26/100\n",
            "31/31 [==============================] - 0s 11ms/step - loss: 4.8541 - mae: 5.3285\n",
            "Epoch 27/100\n",
            "31/31 [==============================] - 0s 10ms/step - loss: 4.7663 - mae: 5.2364\n",
            "Epoch 28/100\n",
            "31/31 [==============================] - 0s 10ms/step - loss: 4.7619 - mae: 5.2381\n",
            "Epoch 29/100\n",
            "31/31 [==============================] - 0s 10ms/step - loss: 4.7249 - mae: 5.2060\n",
            "Epoch 30/100\n",
            "31/31 [==============================] - 0s 10ms/step - loss: 4.7913 - mae: 5.2641\n",
            "Epoch 31/100\n",
            "31/31 [==============================] - 0s 11ms/step - loss: 4.8360 - mae: 5.3088\n",
            "Epoch 32/100\n",
            "31/31 [==============================] - 0s 10ms/step - loss: 4.8062 - mae: 5.2853\n",
            "Epoch 33/100\n",
            "31/31 [==============================] - 0s 11ms/step - loss: 4.7276 - mae: 5.2073\n",
            "Epoch 34/100\n",
            "31/31 [==============================] - 0s 10ms/step - loss: 4.6870 - mae: 5.1608\n",
            "Epoch 35/100\n",
            "31/31 [==============================] - 0s 10ms/step - loss: 4.6944 - mae: 5.1686\n",
            "Epoch 36/100\n",
            "31/31 [==============================] - 0s 10ms/step - loss: 4.6910 - mae: 5.1703\n",
            "Epoch 37/100\n",
            "31/31 [==============================] - 1s 14ms/step - loss: 4.6781 - mae: 5.1563\n",
            "Epoch 38/100\n",
            "31/31 [==============================] - 1s 14ms/step - loss: 4.6658 - mae: 5.1417\n",
            "Epoch 39/100\n",
            "31/31 [==============================] - 1s 12ms/step - loss: 4.6099 - mae: 5.0843\n",
            "Epoch 40/100\n",
            "31/31 [==============================] - 0s 10ms/step - loss: 4.6394 - mae: 5.1121\n",
            "Epoch 41/100\n",
            "31/31 [==============================] - 0s 10ms/step - loss: 4.6060 - mae: 5.0809\n",
            "Epoch 42/100\n",
            "31/31 [==============================] - 0s 10ms/step - loss: 4.6308 - mae: 5.1079\n",
            "Epoch 43/100\n",
            "31/31 [==============================] - 0s 10ms/step - loss: 4.7463 - mae: 5.2205\n",
            "Epoch 44/100\n",
            "31/31 [==============================] - 0s 10ms/step - loss: 4.5951 - mae: 5.0723\n",
            "Epoch 45/100\n",
            "31/31 [==============================] - 0s 10ms/step - loss: 4.6891 - mae: 5.1654\n",
            "Epoch 46/100\n",
            "31/31 [==============================] - 0s 11ms/step - loss: 4.5632 - mae: 5.0410\n",
            "Epoch 47/100\n",
            "31/31 [==============================] - 0s 10ms/step - loss: 4.5732 - mae: 5.0492\n",
            "Epoch 48/100\n",
            "31/31 [==============================] - 0s 10ms/step - loss: 4.6182 - mae: 5.0935\n",
            "Epoch 49/100\n",
            "31/31 [==============================] - 0s 10ms/step - loss: 4.6281 - mae: 5.1061\n",
            "Epoch 50/100\n",
            "31/31 [==============================] - 0s 10ms/step - loss: 4.7299 - mae: 5.2097\n",
            "Epoch 51/100\n",
            "31/31 [==============================] - 0s 10ms/step - loss: 4.7559 - mae: 5.2298\n",
            "Epoch 52/100\n",
            "31/31 [==============================] - 0s 11ms/step - loss: 4.6016 - mae: 5.0782\n",
            "Epoch 53/100\n",
            "31/31 [==============================] - 0s 11ms/step - loss: 4.6438 - mae: 5.1219\n",
            "Epoch 54/100\n",
            "31/31 [==============================] - 0s 10ms/step - loss: 4.5564 - mae: 5.0330\n",
            "Epoch 55/100\n",
            "31/31 [==============================] - 0s 10ms/step - loss: 4.7615 - mae: 5.2361\n",
            "Epoch 56/100\n",
            "31/31 [==============================] - 0s 10ms/step - loss: 4.7889 - mae: 5.2707\n",
            "Epoch 57/100\n",
            "31/31 [==============================] - 0s 10ms/step - loss: 4.5577 - mae: 5.0338\n",
            "Epoch 58/100\n",
            "31/31 [==============================] - 0s 10ms/step - loss: 4.5101 - mae: 4.9895\n",
            "Epoch 59/100\n",
            "31/31 [==============================] - 0s 10ms/step - loss: 4.5291 - mae: 5.0062\n",
            "Epoch 60/100\n",
            "31/31 [==============================] - 0s 10ms/step - loss: 4.5421 - mae: 5.0171\n",
            "Epoch 61/100\n",
            "31/31 [==============================] - 0s 10ms/step - loss: 4.4888 - mae: 4.9676\n",
            "Epoch 62/100\n",
            "31/31 [==============================] - 0s 10ms/step - loss: 4.7080 - mae: 5.1888\n",
            "Epoch 63/100\n",
            "31/31 [==============================] - 0s 10ms/step - loss: 4.5256 - mae: 5.0041\n",
            "Epoch 64/100\n",
            "31/31 [==============================] - 0s 10ms/step - loss: 4.5390 - mae: 5.0162\n",
            "Epoch 65/100\n",
            "31/31 [==============================] - 0s 10ms/step - loss: 4.5151 - mae: 4.9896\n",
            "Epoch 66/100\n",
            "31/31 [==============================] - 0s 10ms/step - loss: 4.5457 - mae: 5.0242\n",
            "Epoch 67/100\n",
            "31/31 [==============================] - 0s 10ms/step - loss: 4.5196 - mae: 4.9902\n",
            "Epoch 68/100\n",
            "31/31 [==============================] - 0s 10ms/step - loss: 4.4884 - mae: 4.9617\n",
            "Epoch 69/100\n",
            "31/31 [==============================] - 0s 10ms/step - loss: 4.5398 - mae: 5.0161\n",
            "Epoch 70/100\n",
            "31/31 [==============================] - 0s 10ms/step - loss: 4.5726 - mae: 5.0513\n",
            "Epoch 71/100\n",
            "31/31 [==============================] - 0s 10ms/step - loss: 4.4883 - mae: 4.9643\n",
            "Epoch 72/100\n",
            "31/31 [==============================] - 0s 11ms/step - loss: 4.5043 - mae: 4.9806\n",
            "Epoch 73/100\n",
            "31/31 [==============================] - 0s 10ms/step - loss: 4.5078 - mae: 4.9850\n",
            "Epoch 74/100\n",
            "31/31 [==============================] - 0s 10ms/step - loss: 4.4783 - mae: 4.9520\n",
            "Epoch 75/100\n",
            "31/31 [==============================] - 0s 10ms/step - loss: 4.4981 - mae: 4.9761\n",
            "Epoch 76/100\n",
            "31/31 [==============================] - 0s 10ms/step - loss: 4.5391 - mae: 5.0127\n",
            "Epoch 77/100\n",
            "31/31 [==============================] - 0s 10ms/step - loss: 4.6041 - mae: 5.0765\n",
            "Epoch 78/100\n",
            "31/31 [==============================] - 0s 11ms/step - loss: 4.4726 - mae: 4.9438\n",
            "Epoch 79/100\n",
            "31/31 [==============================] - 0s 10ms/step - loss: 4.4466 - mae: 4.9253\n",
            "Epoch 80/100\n",
            "31/31 [==============================] - 0s 10ms/step - loss: 4.4492 - mae: 4.9255\n",
            "Epoch 81/100\n",
            "31/31 [==============================] - 0s 10ms/step - loss: 4.4705 - mae: 4.9464\n",
            "Epoch 82/100\n",
            "31/31 [==============================] - 0s 11ms/step - loss: 4.5249 - mae: 5.0004\n",
            "Epoch 83/100\n",
            "31/31 [==============================] - 0s 11ms/step - loss: 4.5239 - mae: 4.9990\n",
            "Epoch 84/100\n",
            "31/31 [==============================] - 0s 10ms/step - loss: 4.5755 - mae: 5.0506\n",
            "Epoch 85/100\n",
            "31/31 [==============================] - 0s 10ms/step - loss: 4.6399 - mae: 5.1132\n",
            "Epoch 86/100\n",
            "31/31 [==============================] - 0s 10ms/step - loss: 4.4703 - mae: 4.9469\n",
            "Epoch 87/100\n",
            "31/31 [==============================] - 0s 11ms/step - loss: 4.4623 - mae: 4.9409\n",
            "Epoch 88/100\n",
            "31/31 [==============================] - 0s 10ms/step - loss: 4.4354 - mae: 4.9045\n",
            "Epoch 89/100\n",
            "31/31 [==============================] - 0s 10ms/step - loss: 4.5515 - mae: 5.0260\n",
            "Epoch 90/100\n",
            "31/31 [==============================] - 0s 10ms/step - loss: 4.5095 - mae: 4.9832\n",
            "Epoch 91/100\n",
            "31/31 [==============================] - 0s 10ms/step - loss: 4.4784 - mae: 4.9510\n",
            "Epoch 92/100\n",
            "31/31 [==============================] - 0s 11ms/step - loss: 4.4136 - mae: 4.8890\n",
            "Epoch 93/100\n",
            "31/31 [==============================] - 0s 10ms/step - loss: 4.5374 - mae: 5.0134\n",
            "Epoch 94/100\n",
            "31/31 [==============================] - 0s 11ms/step - loss: 4.4215 - mae: 4.8969\n",
            "Epoch 95/100\n",
            "31/31 [==============================] - 0s 10ms/step - loss: 4.5713 - mae: 5.0483\n",
            "Epoch 96/100\n",
            "31/31 [==============================] - 0s 10ms/step - loss: 4.4599 - mae: 4.9377\n",
            "Epoch 97/100\n",
            "31/31 [==============================] - 0s 10ms/step - loss: 4.3956 - mae: 4.8676\n",
            "Epoch 98/100\n",
            "31/31 [==============================] - 0s 10ms/step - loss: 4.4245 - mae: 4.9009\n",
            "Epoch 99/100\n",
            "31/31 [==============================] - 0s 11ms/step - loss: 4.5230 - mae: 5.0023\n",
            "Epoch 100/100\n",
            "31/31 [==============================] - 0s 10ms/step - loss: 4.6121 - mae: 5.0858\n"
          ]
        }
      ],
      "source": [
        "# Reset states generated by Keras\n",
        "tf.keras.backend.clear_session()\n",
        "\n",
        "# Build the model\n",
        "model = tf.keras.models.Sequential([\n",
        "  tf.keras.layers.Lambda(lambda x: tf.expand_dims(x, axis=-1),\n",
        "                      input_shape=[None]),\n",
        "   tf.keras.layers.Bidirectional(tf.keras.layers.LSTM(32, return_sequences=True)),\n",
        "  tf.keras.layers.Bidirectional(tf.keras.layers.LSTM(32)),\n",
        "  tf.keras.layers.Dense(1),\n",
        "  tf.keras.layers.Lambda(lambda x: x * 100.0)\n",
        "])\n",
        "\n",
        "# Set the learning rate\n",
        "learning_rate = 2e-6\n",
        "\n",
        "# Set the optimizer \n",
        "optimizer = tf.keras.optimizers.SGD(learning_rate=learning_rate, momentum=0.9)\n",
        "\n",
        "# Set the training parameters\n",
        "model.compile(loss=tf.keras.losses.Huber(),\n",
        "              optimizer=optimizer,\n",
        "              metrics=[\"mae\"])\n",
        "\n",
        "# Train the model\n",
        "history = model.fit(dataset,epochs=100)"
      ]
    },
    {
      "cell_type": "markdown",
      "metadata": {
        "id": "RjP4kbGiI7cw"
      },
      "source": [
        "## Model Prediction\n",
        "\n",
        "You will then generate batches of windows to generate predictions that align with the validation set."
      ]
    },
    {
      "cell_type": "code",
      "execution_count": 12,
      "metadata": {
        "id": "QO8cfKwKBBG6"
      },
      "outputs": [],
      "source": [
        "def model_forecast(model, series, window_size, batch_size):\n",
        "    \"\"\"Uses an input model to generate predictions on data windows\n",
        "\n",
        "    Args:\n",
        "      model (TF Keras Model) - model that accepts data windows\n",
        "      series (array of float) - contains the values of the time series\n",
        "      window_size (int) - the number of time steps to include in the window\n",
        "      batch_size (int) - the batch size\n",
        "\n",
        "    Returns:\n",
        "      forecast (numpy array) - array containing predictions\n",
        "    \"\"\"\n",
        "\n",
        "    # Generate a TF Dataset from the series values\n",
        "    dataset = tf.data.Dataset.from_tensor_slices(series)\n",
        "\n",
        "    # Window the data but only take those with the specified size\n",
        "    dataset = dataset.window(window_size, shift=1, drop_remainder=True)\n",
        "\n",
        "    # Flatten the windows by putting its elements in a single batch\n",
        "    dataset = dataset.flat_map(lambda w: w.batch(window_size))\n",
        "    \n",
        "    # Create batches of windows\n",
        "    dataset = dataset.batch(batch_size).prefetch(1)\n",
        "    \n",
        "    # Get predictions on the entire dataset\n",
        "    forecast = model.predict(dataset)\n",
        "    \n",
        "    return forecast"
      ]
    },
    {
      "cell_type": "code",
      "execution_count": 13,
      "metadata": {
        "id": "_plB3UseBD8o",
        "colab": {
          "base_uri": "https://localhost:8080/",
          "height": 405
        },
        "outputId": "ae38b28f-64d4-4f8a-b2ca-12a04dc90f30"
      },
      "outputs": [
        {
          "output_type": "stream",
          "name": "stdout",
          "text": [
            "15/15 [==============================] - 1s 9ms/step\n"
          ]
        },
        {
          "output_type": "display_data",
          "data": {
            "text/plain": [
              "<Figure size 720x432 with 1 Axes>"
            ],
            "image/png": "[encoded data removed]"
          },
          "metadata": {
            "needs_background": "light"
          }
        }
      ],
      "source": [
        "# Reduce the original series\n",
        "forecast_series = series[split_time-window_size:-1]\n",
        "\n",
        "# Use helper function to generate predictions\n",
        "forecast = model_forecast(model, forecast_series, window_size, batch_size)\n",
        "\n",
        "# Drop single dimensional axis\n",
        "results = forecast.squeeze()\n",
        "\n",
        "# Plot the results\n",
        "plot_series(time_valid, (x_valid, results))"
      ]
    },
    {
      "cell_type": "markdown",
      "metadata": {
        "id": "Nn8iSQkZtaRC"
      },
      "source": [
        "You can then generate the metrics to evaluate the model's performance."
      ]
    },
    {
      "cell_type": "code",
      "execution_count": 14,
      "metadata": {
        "id": "-IKhueZaBGID",
        "colab": {
          "base_uri": "https://localhost:8080/"
        },
        "outputId": "1004625d-8f2a-48ac-a868-a5ee9c90c654"
      },
      "outputs": [
        {
          "output_type": "stream",
          "name": "stdout",
          "text": [
            "61.94697\n",
            "5.6382656\n"
          ]
        }
      ],
      "source": [
        "# Compute the MSE and MAE\n",
        "print(tf.keras.metrics.mean_squared_error(x_valid, results).numpy())\n",
        "print(tf.keras.metrics.mean_absolute_error(x_valid, results).numpy())"
      ]
    },
    {
      "cell_type": "markdown",
      "metadata": {
        "id": "bzPIqeMWvbPy"
      },
      "source": [
        "## Wrap Up\n",
        "\n",
        "This concludes this short exercise on using LSTMs for time series forecasting. Next week, you will build upon this and add convolutions. Then, you will start to move away from synthetic data and use real-world datasets. See you there!"
      ]
    },
    {
      "cell_type": "markdown",
      "metadata": {
        "id": "U5PqTePGHeMH"
      },
      "source": [
        "## Optional: Including a Validation Set while Training\n",
        "\n",
        "Back in the first course of this specialization, you saw how you can also monitor the performance of your model against a validation set while training. You can also do that for this lab. \n",
        "\n",
        "First, you need to generate a `val_set` which are data windows and labels that your model can accept. You can simply reuse the `windowed_dataset` function for that and you can pass in the `x_valid` points to generate the windows."
      ]
    },
    {
      "cell_type": "code",
      "execution_count": 15,
      "metadata": {
        "id": "kvFVwL3PC4iX"
      },
      "outputs": [],
      "source": [
        "# Generate data windows of the validation set\n",
        "val_set = windowed_dataset(x_valid, window_size, batch_size, shuffle_buffer_size)"
      ]
    },
    {
      "cell_type": "markdown",
      "metadata": {
        "id": "p68j6XxEvP9K"
      },
      "source": [
        "You can then do the same training as before but pass in the `val_set` to the `validation_data` parameter of the `fit()` method."
      ]
    },
    {
      "cell_type": "code",
      "execution_count": 16,
      "metadata": {
        "id": "wujKz6tXDSn0",
        "colab": {
          "base_uri": "https://localhost:8080/"
        },
        "outputId": "169ad71e-a848-4cb8-ee4b-1f82c1c68dea"
      },
      "outputs": [
        {
          "output_type": "stream",
          "name": "stdout",
          "text": [
            "Epoch 1/100\n",
            "31/31 [==============================] - 8s 79ms/step - loss: 15.1283 - mae: 15.6178 - val_loss: 30.9446 - val_mae: 31.4438\n",
            "Epoch 2/100\n",
            "31/31 [==============================] - 1s 14ms/step - loss: 12.2391 - mae: 12.7268 - val_loss: 25.9954 - val_mae: 26.4930\n",
            "Epoch 3/100\n",
            "31/31 [==============================] - 1s 14ms/step - loss: 9.9353 - mae: 10.4217 - val_loss: 21.9707 - val_mae: 22.4680\n",
            "Epoch 4/100\n",
            "31/31 [==============================] - 1s 13ms/step - loss: 8.5368 - mae: 9.0194 - val_loss: 18.6422 - val_mae: 19.1391\n",
            "Epoch 5/100\n",
            "31/31 [==============================] - 1s 14ms/step - loss: 7.7500 - mae: 8.2312 - val_loss: 15.9469 - val_mae: 16.4436\n",
            "Epoch 6/100\n",
            "31/31 [==============================] - 1s 14ms/step - loss: 7.3497 - mae: 7.8302 - val_loss: 14.0675 - val_mae: 14.5624\n",
            "Epoch 7/100\n",
            "31/31 [==============================] - 1s 14ms/step - loss: 7.1341 - mae: 7.6132 - val_loss: 13.6896 - val_mae: 14.1823\n",
            "Epoch 8/100\n",
            "31/31 [==============================] - 1s 13ms/step - loss: 6.9610 - mae: 7.4429 - val_loss: 12.1982 - val_mae: 12.6899\n",
            "Epoch 9/100\n",
            "31/31 [==============================] - 1s 14ms/step - loss: 6.7677 - mae: 7.2479 - val_loss: 13.0451 - val_mae: 13.5385\n",
            "Epoch 10/100\n",
            "31/31 [==============================] - 1s 14ms/step - loss: 6.7171 - mae: 7.1965 - val_loss: 11.4280 - val_mae: 11.9184\n",
            "Epoch 11/100\n",
            "31/31 [==============================] - 1s 14ms/step - loss: 6.5814 - mae: 7.0623 - val_loss: 10.8523 - val_mae: 11.3400\n",
            "Epoch 12/100\n",
            "31/31 [==============================] - 1s 14ms/step - loss: 6.5340 - mae: 7.0130 - val_loss: 10.5573 - val_mae: 11.0466\n",
            "Epoch 13/100\n",
            "31/31 [==============================] - 1s 14ms/step - loss: 6.3880 - mae: 6.8668 - val_loss: 10.9730 - val_mae: 11.4681\n",
            "Epoch 14/100\n",
            "31/31 [==============================] - 1s 13ms/step - loss: 6.3221 - mae: 6.8040 - val_loss: 10.0486 - val_mae: 10.5370\n",
            "Epoch 15/100\n",
            "31/31 [==============================] - 1s 14ms/step - loss: 6.3083 - mae: 6.7904 - val_loss: 9.9352 - val_mae: 10.4229\n",
            "Epoch 16/100\n",
            "31/31 [==============================] - 1s 14ms/step - loss: 6.1610 - mae: 6.6383 - val_loss: 9.3543 - val_mae: 9.8405\n",
            "Epoch 17/100\n",
            "31/31 [==============================] - 1s 14ms/step - loss: 6.1342 - mae: 6.6165 - val_loss: 9.8642 - val_mae: 10.3536\n",
            "Epoch 18/100\n",
            "31/31 [==============================] - 1s 15ms/step - loss: 6.1111 - mae: 6.5935 - val_loss: 10.1205 - val_mae: 10.6155\n",
            "Epoch 19/100\n",
            "31/31 [==============================] - 1s 14ms/step - loss: 6.0184 - mae: 6.4983 - val_loss: 9.1572 - val_mae: 9.6428\n",
            "Epoch 20/100\n",
            "31/31 [==============================] - 1s 15ms/step - loss: 5.8923 - mae: 6.3709 - val_loss: 8.9038 - val_mae: 9.3895\n",
            "Epoch 21/100\n",
            "31/31 [==============================] - 1s 14ms/step - loss: 5.9317 - mae: 6.4136 - val_loss: 8.2748 - val_mae: 8.7629\n",
            "Epoch 22/100\n",
            "31/31 [==============================] - 1s 14ms/step - loss: 5.9171 - mae: 6.3961 - val_loss: 8.7487 - val_mae: 9.2343\n",
            "Epoch 23/100\n",
            "31/31 [==============================] - 1s 14ms/step - loss: 5.8304 - mae: 6.3109 - val_loss: 9.4711 - val_mae: 9.9650\n",
            "Epoch 24/100\n",
            "31/31 [==============================] - 1s 15ms/step - loss: 5.8988 - mae: 6.3762 - val_loss: 9.4135 - val_mae: 9.9075\n",
            "Epoch 25/100\n",
            "31/31 [==============================] - 1s 14ms/step - loss: 5.7328 - mae: 6.2092 - val_loss: 8.6846 - val_mae: 9.1692\n",
            "Epoch 26/100\n",
            "31/31 [==============================] - 1s 14ms/step - loss: 5.7240 - mae: 6.2034 - val_loss: 9.1373 - val_mae: 9.6289\n",
            "Epoch 27/100\n",
            "31/31 [==============================] - 1s 13ms/step - loss: 5.6410 - mae: 6.1189 - val_loss: 8.5295 - val_mae: 9.0133\n",
            "Epoch 28/100\n",
            "31/31 [==============================] - 1s 13ms/step - loss: 5.5921 - mae: 6.0693 - val_loss: 8.1391 - val_mae: 8.6223\n",
            "Epoch 29/100\n",
            "31/31 [==============================] - 1s 14ms/step - loss: 5.5535 - mae: 6.0311 - val_loss: 9.2584 - val_mae: 9.7500\n",
            "Epoch 30/100\n",
            "31/31 [==============================] - 1s 14ms/step - loss: 5.5326 - mae: 6.0115 - val_loss: 8.4781 - val_mae: 8.9642\n",
            "Epoch 31/100\n",
            "31/31 [==============================] - 1s 15ms/step - loss: 5.5248 - mae: 6.0015 - val_loss: 9.0476 - val_mae: 9.5383\n",
            "Epoch 32/100\n",
            "31/31 [==============================] - 1s 14ms/step - loss: 5.4954 - mae: 5.9731 - val_loss: 7.7793 - val_mae: 8.2648\n",
            "Epoch 33/100\n",
            "31/31 [==============================] - 1s 14ms/step - loss: 5.4443 - mae: 5.9206 - val_loss: 7.6022 - val_mae: 8.0878\n",
            "Epoch 34/100\n",
            "31/31 [==============================] - 1s 14ms/step - loss: 5.5670 - mae: 6.0447 - val_loss: 7.1264 - val_mae: 7.6089\n",
            "Epoch 35/100\n",
            "31/31 [==============================] - 1s 14ms/step - loss: 5.3838 - mae: 5.8596 - val_loss: 7.6536 - val_mae: 8.1388\n",
            "Epoch 36/100\n",
            "31/31 [==============================] - 1s 14ms/step - loss: 5.3348 - mae: 5.8113 - val_loss: 7.1750 - val_mae: 7.6584\n",
            "Epoch 37/100\n",
            "31/31 [==============================] - 1s 14ms/step - loss: 5.4991 - mae: 5.9791 - val_loss: 8.2064 - val_mae: 8.6956\n",
            "Epoch 38/100\n",
            "31/31 [==============================] - 1s 14ms/step - loss: 5.2984 - mae: 5.7803 - val_loss: 8.3044 - val_mae: 8.7948\n",
            "Epoch 39/100\n",
            "31/31 [==============================] - 1s 14ms/step - loss: 5.2763 - mae: 5.7558 - val_loss: 8.4749 - val_mae: 8.9652\n",
            "Epoch 40/100\n",
            "31/31 [==============================] - 1s 14ms/step - loss: 5.2488 - mae: 5.7276 - val_loss: 7.3949 - val_mae: 7.8795\n",
            "Epoch 41/100\n",
            "31/31 [==============================] - 1s 14ms/step - loss: 5.2567 - mae: 5.7326 - val_loss: 6.9284 - val_mae: 7.4095\n",
            "Epoch 42/100\n",
            "31/31 [==============================] - 1s 14ms/step - loss: 5.2058 - mae: 5.6828 - val_loss: 8.1389 - val_mae: 8.6286\n",
            "Epoch 43/100\n",
            "31/31 [==============================] - 1s 14ms/step - loss: 5.2166 - mae: 5.6970 - val_loss: 8.3085 - val_mae: 8.7990\n",
            "Epoch 44/100\n",
            "31/31 [==============================] - 1s 14ms/step - loss: 5.1968 - mae: 5.6773 - val_loss: 7.0975 - val_mae: 7.5809\n",
            "Epoch 45/100\n",
            "31/31 [==============================] - 1s 14ms/step - loss: 5.1393 - mae: 5.6187 - val_loss: 6.8039 - val_mae: 7.2870\n",
            "Epoch 46/100\n",
            "31/31 [==============================] - 1s 14ms/step - loss: 5.2617 - mae: 5.7377 - val_loss: 6.6385 - val_mae: 7.1253\n",
            "Epoch 47/100\n",
            "31/31 [==============================] - 1s 14ms/step - loss: 5.1038 - mae: 5.5796 - val_loss: 7.0849 - val_mae: 7.5669\n",
            "Epoch 48/100\n",
            "31/31 [==============================] - 1s 14ms/step - loss: 5.1328 - mae: 5.6121 - val_loss: 6.9406 - val_mae: 7.4221\n",
            "Epoch 49/100\n",
            "31/31 [==============================] - 1s 14ms/step - loss: 5.0479 - mae: 5.5278 - val_loss: 7.6205 - val_mae: 8.1071\n",
            "Epoch 50/100\n",
            "31/31 [==============================] - 1s 14ms/step - loss: 5.0492 - mae: 5.5266 - val_loss: 7.9649 - val_mae: 8.4515\n",
            "Epoch 51/100\n",
            "31/31 [==============================] - 1s 14ms/step - loss: 5.0635 - mae: 5.5411 - val_loss: 6.8135 - val_mae: 7.2957\n",
            "Epoch 52/100\n",
            "31/31 [==============================] - 1s 14ms/step - loss: 5.1450 - mae: 5.6199 - val_loss: 6.9405 - val_mae: 7.4214\n",
            "Epoch 53/100\n",
            "31/31 [==============================] - 1s 14ms/step - loss: 4.9953 - mae: 5.4715 - val_loss: 7.7180 - val_mae: 8.2026\n",
            "Epoch 54/100\n",
            "31/31 [==============================] - 1s 14ms/step - loss: 5.0378 - mae: 5.5134 - val_loss: 7.5488 - val_mae: 8.0363\n",
            "Epoch 55/100\n",
            "31/31 [==============================] - 1s 14ms/step - loss: 4.9513 - mae: 5.4290 - val_loss: 6.4371 - val_mae: 6.9235\n",
            "Epoch 56/100\n",
            "31/31 [==============================] - 1s 15ms/step - loss: 4.9864 - mae: 5.4614 - val_loss: 6.5939 - val_mae: 7.0757\n",
            "Epoch 57/100\n",
            "31/31 [==============================] - 1s 14ms/step - loss: 4.9702 - mae: 5.4473 - val_loss: 6.6672 - val_mae: 7.1479\n",
            "Epoch 58/100\n",
            "31/31 [==============================] - 1s 14ms/step - loss: 4.9467 - mae: 5.4214 - val_loss: 6.8648 - val_mae: 7.3440\n",
            "Epoch 59/100\n",
            "31/31 [==============================] - 1s 15ms/step - loss: 4.9472 - mae: 5.4219 - val_loss: 7.2470 - val_mae: 7.7362\n",
            "Epoch 60/100\n",
            "31/31 [==============================] - 1s 14ms/step - loss: 4.9077 - mae: 5.3805 - val_loss: 6.7396 - val_mae: 7.2181\n",
            "Epoch 61/100\n",
            "31/31 [==============================] - 1s 14ms/step - loss: 4.9914 - mae: 5.4697 - val_loss: 7.1142 - val_mae: 7.5990\n",
            "Epoch 62/100\n",
            "31/31 [==============================] - 1s 14ms/step - loss: 4.9073 - mae: 5.3810 - val_loss: 7.5199 - val_mae: 8.0071\n",
            "Epoch 63/100\n",
            "31/31 [==============================] - 1s 14ms/step - loss: 4.8734 - mae: 5.3454 - val_loss: 7.2585 - val_mae: 7.7471\n",
            "Epoch 64/100\n",
            "31/31 [==============================] - 1s 14ms/step - loss: 4.9115 - mae: 5.3902 - val_loss: 7.7932 - val_mae: 8.2759\n",
            "Epoch 65/100\n",
            "31/31 [==============================] - 1s 14ms/step - loss: 4.8544 - mae: 5.3267 - val_loss: 7.7181 - val_mae: 8.2008\n",
            "Epoch 66/100\n",
            "31/31 [==============================] - 1s 14ms/step - loss: 4.8901 - mae: 5.3653 - val_loss: 7.7060 - val_mae: 8.1884\n",
            "Epoch 67/100\n",
            "31/31 [==============================] - 1s 14ms/step - loss: 4.8710 - mae: 5.3507 - val_loss: 6.7785 - val_mae: 7.2573\n",
            "Epoch 68/100\n",
            "31/31 [==============================] - 1s 14ms/step - loss: 4.8344 - mae: 5.3115 - val_loss: 7.7494 - val_mae: 8.2336\n",
            "Epoch 69/100\n",
            "31/31 [==============================] - 1s 14ms/step - loss: 4.9463 - mae: 5.4217 - val_loss: 6.3349 - val_mae: 6.8193\n",
            "Epoch 70/100\n",
            "31/31 [==============================] - 1s 15ms/step - loss: 4.9422 - mae: 5.4230 - val_loss: 6.3330 - val_mae: 6.8167\n",
            "Epoch 71/100\n",
            "31/31 [==============================] - 1s 14ms/step - loss: 4.7891 - mae: 5.2666 - val_loss: 7.0342 - val_mae: 7.5190\n",
            "Epoch 72/100\n",
            "31/31 [==============================] - 1s 15ms/step - loss: 4.8823 - mae: 5.3636 - val_loss: 7.2565 - val_mae: 7.7437\n",
            "Epoch 73/100\n",
            "31/31 [==============================] - 1s 14ms/step - loss: 4.7723 - mae: 5.2428 - val_loss: 6.5397 - val_mae: 7.0191\n",
            "Epoch 74/100\n",
            "31/31 [==============================] - 1s 15ms/step - loss: 4.7600 - mae: 5.2349 - val_loss: 6.2119 - val_mae: 6.6969\n",
            "Epoch 75/100\n",
            "31/31 [==============================] - 1s 14ms/step - loss: 4.8153 - mae: 5.2917 - val_loss: 6.5139 - val_mae: 6.9927\n",
            "Epoch 76/100\n",
            "31/31 [==============================] - 1s 15ms/step - loss: 4.8878 - mae: 5.3654 - val_loss: 7.3033 - val_mae: 7.7893\n",
            "Epoch 77/100\n",
            "31/31 [==============================] - 1s 14ms/step - loss: 4.8347 - mae: 5.3108 - val_loss: 6.6340 - val_mae: 7.1143\n",
            "Epoch 78/100\n",
            "31/31 [==============================] - 1s 14ms/step - loss: 4.8635 - mae: 5.3423 - val_loss: 6.6542 - val_mae: 7.1343\n",
            "Epoch 79/100\n",
            "31/31 [==============================] - 1s 14ms/step - loss: 4.7784 - mae: 5.2542 - val_loss: 6.9437 - val_mae: 7.4267\n",
            "Epoch 80/100\n",
            "31/31 [==============================] - 1s 14ms/step - loss: 4.7038 - mae: 5.1800 - val_loss: 7.6045 - val_mae: 8.0906\n",
            "Epoch 81/100\n",
            "31/31 [==============================] - 1s 14ms/step - loss: 4.7231 - mae: 5.1934 - val_loss: 7.2005 - val_mae: 7.6869\n",
            "Epoch 82/100\n",
            "31/31 [==============================] - 1s 14ms/step - loss: 4.7163 - mae: 5.1914 - val_loss: 6.3987 - val_mae: 6.8775\n",
            "Epoch 83/100\n",
            "31/31 [==============================] - 1s 14ms/step - loss: 4.7676 - mae: 5.2460 - val_loss: 6.9541 - val_mae: 7.4382\n",
            "Epoch 84/100\n",
            "31/31 [==============================] - 1s 14ms/step - loss: 4.7331 - mae: 5.2111 - val_loss: 6.5576 - val_mae: 7.0374\n",
            "Epoch 85/100\n",
            "31/31 [==============================] - 1s 14ms/step - loss: 4.7460 - mae: 5.2175 - val_loss: 7.1346 - val_mae: 7.6198\n",
            "Epoch 86/100\n",
            "31/31 [==============================] - 1s 14ms/step - loss: 4.8097 - mae: 5.2906 - val_loss: 6.4002 - val_mae: 6.8796\n",
            "Epoch 87/100\n",
            "31/31 [==============================] - 1s 14ms/step - loss: 4.6496 - mae: 5.1283 - val_loss: 8.2268 - val_mae: 8.7136\n",
            "Epoch 88/100\n",
            "31/31 [==============================] - 1s 14ms/step - loss: 4.7988 - mae: 5.2763 - val_loss: 6.5093 - val_mae: 6.9887\n",
            "Epoch 89/100\n",
            "31/31 [==============================] - 1s 14ms/step - loss: 4.7652 - mae: 5.2433 - val_loss: 6.6344 - val_mae: 7.1165\n",
            "Epoch 90/100\n",
            "31/31 [==============================] - 1s 14ms/step - loss: 4.7867 - mae: 5.2645 - val_loss: 7.0149 - val_mae: 7.4993\n",
            "Epoch 91/100\n",
            "31/31 [==============================] - 1s 14ms/step - loss: 4.7977 - mae: 5.2736 - val_loss: 7.1309 - val_mae: 7.6145\n",
            "Epoch 92/100\n",
            "31/31 [==============================] - 1s 14ms/step - loss: 4.6724 - mae: 5.1471 - val_loss: 5.6976 - val_mae: 6.1741\n",
            "Epoch 93/100\n",
            "31/31 [==============================] - 1s 14ms/step - loss: 4.6938 - mae: 5.1679 - val_loss: 5.8883 - val_mae: 6.3778\n",
            "Epoch 94/100\n",
            "31/31 [==============================] - 1s 15ms/step - loss: 4.7005 - mae: 5.1766 - val_loss: 7.3715 - val_mae: 7.8578\n",
            "Epoch 95/100\n",
            "31/31 [==============================] - 1s 14ms/step - loss: 4.6494 - mae: 5.1296 - val_loss: 5.7197 - val_mae: 6.1992\n",
            "Epoch 96/100\n",
            "31/31 [==============================] - 1s 15ms/step - loss: 4.7648 - mae: 5.2435 - val_loss: 6.0360 - val_mae: 6.5181\n",
            "Epoch 97/100\n",
            "31/31 [==============================] - 1s 15ms/step - loss: 4.6628 - mae: 5.1415 - val_loss: 5.8027 - val_mae: 6.2864\n",
            "Epoch 98/100\n",
            "31/31 [==============================] - 1s 14ms/step - loss: 4.6473 - mae: 5.1248 - val_loss: 5.9899 - val_mae: 6.4723\n",
            "Epoch 99/100\n",
            "31/31 [==============================] - 1s 14ms/step - loss: 4.6498 - mae: 5.1299 - val_loss: 6.8416 - val_mae: 7.3236\n",
            "Epoch 100/100\n",
            "31/31 [==============================] - 1s 14ms/step - loss: 4.6530 - mae: 5.1302 - val_loss: 6.8294 - val_mae: 7.3145\n"
          ]
        }
      ],
      "source": [
        "# Reset states generated by Keras\n",
        "tf.keras.backend.clear_session()\n",
        "\n",
        "# Build the model\n",
        "model = tf.keras.models.Sequential([\n",
        "  tf.keras.layers.Lambda(lambda x: tf.expand_dims(x, axis=-1),\n",
        "                      input_shape=[None]),\n",
        "   tf.keras.layers.Bidirectional(tf.keras.layers.LSTM(32, return_sequences=True)),\n",
        "  tf.keras.layers.Bidirectional(tf.keras.layers.LSTM(32)),\n",
        "  tf.keras.layers.Dense(1),\n",
        "  tf.keras.layers.Lambda(lambda x: x * 100.0)\n",
        "])\n",
        "\n",
        "# Set the learning rate\n",
        "learning_rate = 2e-6\n",
        "\n",
        "# Set the optimizer \n",
        "optimizer = tf.keras.optimizers.SGD(learning_rate=learning_rate, momentum=0.9)\n",
        "\n",
        "# Set the training parameters\n",
        "model.compile(loss=tf.keras.losses.Huber(),\n",
        "              optimizer=optimizer,\n",
        "              metrics=[\"mae\"])\n",
        "\n",
        "# Train the model\n",
        "history = model.fit(dataset,epochs=100, validation_data=val_set)"
      ]
    }
  ],
  "metadata": {
    "accelerator": "GPU",
    "colab": {
      "provenance": []
    },
    "kernelspec": {
      "display_name": "Python 3",
      "language": "python",
      "name": "python3"
    },
    "language_info": {
      "codemirror_mode": {
        "name": "ipython",
        "version": 3
      },
      "file_extension": ".py",
      "mimetype": "text/x-python",
      "name": "python",
      "nbconvert_exporter": "python",
      "pygments_lexer": "ipython3",
      "version": "3.7.4"
    },
    "gpuClass": "standard"
  },
  "nbformat": 4,
  "nbformat_minor": 0
}