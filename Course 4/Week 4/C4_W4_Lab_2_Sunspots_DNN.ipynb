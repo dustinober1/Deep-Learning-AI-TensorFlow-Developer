{
  "cells": [
    {
      "cell_type": "markdown",
      "metadata": {
        "id": "JQsk1BKwZrBh"
      },
      "source": [
        "# Ungraded Lab: Predicting Sunspots with Neural Networks (DNN only)\n",
        "\n",
        "In the remaining labs for this week, you will move away from synthetic time series and start building models for real world data. In particular, you will train on the [Sunspots](https://www.kaggle.com/datasets/robervalt/sunspots) dataset: a monthly record of sunspot numbers from January 1749 to July 2018. You will first build a deep neural network here composed of dense layers. This will act as your baseline so you can compare it to the next lab where you will use a more complex architecture.\n",
        "\n",
        "Let's begin!"
      ]
    },
    {
      "cell_type": "markdown",
      "metadata": {
        "id": "2JHlrB12aeFD"
      },
      "source": [
        "## Imports\n",
        "\n",
        "You will use the same imports as before with the addition of the [csv](https://docs.python.org/3/library/csv.html) module. You will need this to parse the CSV file containing the dataset."
      ]
    },
    {
      "cell_type": "code",
      "execution_count": 1,
      "metadata": {
        "id": "56XEQOGknrAk"
      },
      "outputs": [],
      "source": [
        "import tensorflow as tf\n",
        "import numpy as np\n",
        "import matplotlib.pyplot as plt\n",
        "import csv"
      ]
    },
    {
      "cell_type": "markdown",
      "metadata": {
        "id": "D-mNttnaagBH"
      },
      "source": [
        "## Utilities\n",
        "\n",
        "You will only have the `plot_series()` dataset here because you no longer need the synthetic data generation functions."
      ]
    },
    {
      "cell_type": "code",
      "execution_count": 2,
      "metadata": {
        "id": "sLl52leVp5wU"
      },
      "outputs": [],
      "source": [
        "def plot_series(x, y, format=\"-\", start=0, end=None, \n",
        "                title=None, xlabel=None, ylabel=None, legend=None ):\n",
        "    \"\"\"\n",
        "    Visualizes time series data\n",
        "\n",
        "    Args:\n",
        "      x (array of int) - contains values for the x-axis\n",
        "      y (array of int or tuple of arrays) - contains the values for the y-axis\n",
        "      format (string) - line style when plotting the graph\n",
        "      label (string) - tag for the line\n",
        "      start (int) - first time step to plot\n",
        "      end (int) - last time step to plot\n",
        "      title (string) - title of the plot\n",
        "      xlabel (string) - label for the x-axis\n",
        "      ylabel (string) - label for the y-axis\n",
        "      legend (list of strings) - legend for the plot\n",
        "    \"\"\"\n",
        "\n",
        "    # Setup dimensions of the graph figure\n",
        "    plt.figure(figsize=(10, 6))\n",
        "    \n",
        "    # Check if there are more than two series to plot\n",
        "    if type(y) is tuple:\n",
        "\n",
        "      # Loop over the y elements\n",
        "      for y_curr in y:\n",
        "\n",
        "        # Plot the x and current y values\n",
        "        plt.plot(x[start:end], y_curr[start:end], format)\n",
        "\n",
        "    else:\n",
        "      # Plot the x and y values\n",
        "      plt.plot(x[start:end], y[start:end], format)\n",
        "\n",
        "    # Label the x-axis\n",
        "    plt.xlabel(xlabel)\n",
        "\n",
        "    # Label the y-axis\n",
        "    plt.ylabel(ylabel)\n",
        "\n",
        "    # Set the legend\n",
        "    if legend:\n",
        "      plt.legend(legend)\n",
        "\n",
        "    # Set the title\n",
        "    plt.title(title)\n",
        "\n",
        "    # Overlay a grid on the graph\n",
        "    plt.grid(True)\n",
        "\n",
        "    # Draw the graph on screen\n",
        "    plt.show()"
      ]
    },
    {
      "cell_type": "markdown",
      "metadata": {
        "id": "dFJv45pDauS8"
      },
      "source": [
        "## Download and Preview the Dataset\n",
        "\n",
        "You can now download the dataset and inspect the contents. The link in class is from Laurence's repo but we also hosted it in the link below."
      ]
    },
    {
      "cell_type": "code",
      "execution_count": 3,
      "metadata": {
        "id": "YwI-si5xyUkQ",
        "colab": {
          "base_uri": "https://localhost:8080/"
        },
        "outputId": "1f841e3f-51dd-4b3c-c4da-6cd4911dd5f5"
      },
      "outputs": [
        {
          "output_type": "stream",
          "name": "stdout",
          "text": [
            "--2023-01-07 22:10:51--  https://storage.googleapis.com/tensorflow-1-public/course4/Sunspots.csv\n",
            "Resolving storage.googleapis.com (storage.googleapis.com)... 142.250.141.128, 142.251.2.128, 2607:f8b0:4023:c0d::80, ...\n",
            "Connecting to storage.googleapis.com (storage.googleapis.com)|142.250.141.128|:443... connected.\n",
            "HTTP request sent, awaiting response... 200 OK\n",
            "Length: 70827 (69K) [text/csv]\n",
            "Saving to: ‘Sunspots.csv’\n",
            "\n",
            "\rSunspots.csv          0%[                    ]       0  --.-KB/s               \rSunspots.csv        100%[===================>]  69.17K  --.-KB/s    in 0.001s  \n",
            "\n",
            "2023-01-07 22:10:51 (79.9 MB/s) - ‘Sunspots.csv’ saved [70827/70827]\n",
            "\n"
          ]
        }
      ],
      "source": [
        "# Download the dataset\n",
        "!wget https://storage.googleapis.com/tensorflow-1-public/course4/Sunspots.csv"
      ]
    },
    {
      "cell_type": "markdown",
      "metadata": {
        "id": "c0fAiMytrwPJ"
      },
      "source": [
        "Running the cell below, you'll see that there are only three columns in the dataset:\n",
        "1. untitled column containing the month number\n",
        "2. Date which has the format `YYYY-MM-DD`\n",
        "3. Mean Total Sunspot Number"
      ]
    },
    {
      "cell_type": "code",
      "execution_count": 4,
      "metadata": {
        "id": "d5W2auXKrhVh",
        "colab": {
          "base_uri": "https://localhost:8080/"
        },
        "outputId": "1239da26-d27c-4755-af40-290853fc197c"
      },
      "outputs": [
        {
          "output_type": "stream",
          "name": "stdout",
          "text": [
            ",Date,Monthly Mean Total Sunspot Number\r\n",
            "0,1749-01-31,96.7\r\n",
            "1,1749-02-28,104.3\r\n",
            "2,1749-03-31,116.7\r\n",
            "3,1749-04-30,92.8\r\n",
            "4,1749-05-31,141.7\r\n",
            "5,1749-06-30,139.2\r\n",
            "6,1749-07-31,158.0\r\n",
            "7,1749-08-31,110.5\r\n",
            "8,1749-09-30,126.5\r\n"
          ]
        }
      ],
      "source": [
        "# Preview the dataset\n",
        "!head Sunspots.csv"
      ]
    },
    {
      "cell_type": "markdown",
      "metadata": {
        "id": "lbs-Y2SDsVaw"
      },
      "source": [
        "For this lab and the next, you will only need the month number and the mean total sunspot number. You will load those into memory and convert it to arrays that represents a time series."
      ]
    },
    {
      "cell_type": "code",
      "execution_count": 5,
      "metadata": {
        "id": "NcG9r1eClbTh",
        "colab": {
          "base_uri": "https://localhost:8080/",
          "height": 388
        },
        "outputId": "7bfe8d43-a58f-4334-bf4f-1b861794c691"
      },
      "outputs": [
        {
          "output_type": "display_data",
          "data": {
            "text/plain": [
              "<Figure size 720x432 with 1 Axes>"
            ],
            "image/png": "[encoded data removed]"
          },
          "metadata": {
            "needs_background": "light"
          }
        }
      ],
      "source": [
        "# Initialize lists\n",
        "time_step = []\n",
        "sunspots = []\n",
        "\n",
        "# Open CSV file\n",
        "with open('./Sunspots.csv') as csvfile:\n",
        "  \n",
        "  # Initialize reader\n",
        "  reader = csv.reader(csvfile, delimiter=',')\n",
        "  \n",
        "  # Skip the first line\n",
        "  next(reader)\n",
        "  \n",
        "  # Append row and sunspot number to lists\n",
        "  for row in reader:\n",
        "    time_step.append(int(row[0]))\n",
        "    sunspots.append(float(row[2]))\n",
        "\n",
        "# Convert lists to numpy arrays\n",
        "time = np.array(time_step)\n",
        "series = np.array(sunspots)\n",
        "\n",
        "# Preview the data\n",
        "plot_series(time, series, xlabel='Month', ylabel='Monthly Mean Total Sunspot Number')"
      ]
    },
    {
      "cell_type": "markdown",
      "metadata": {
        "id": "EUQE9RRoazC5"
      },
      "source": [
        "## Split the Dataset\n",
        "\n",
        "Next, you will split the dataset into training and validation sets. There are 3235 points in the dataset and you will use the first 3000 for training."
      ]
    },
    {
      "cell_type": "code",
      "execution_count": 6,
      "metadata": {
        "id": "L92YRw_IpCFG"
      },
      "outputs": [],
      "source": [
        "# Define the split time\n",
        "split_time = 3000\n",
        "\n",
        "# Get the train set \n",
        "time_train = time[:split_time]\n",
        "x_train = series[:split_time]\n",
        "\n",
        "# Get the validation set\n",
        "time_valid = time[split_time:]\n",
        "x_valid = series[split_time:]"
      ]
    },
    {
      "cell_type": "markdown",
      "metadata": {
        "id": "RbuIOrb3a093"
      },
      "source": [
        "## Prepare Features and Labels\n",
        "\n",
        "You can then prepare the dataset windows as before. The window size is set to 30 points (equal to 2.5 years) but feel free to change later on if you want to experiment."
      ]
    },
    {
      "cell_type": "code",
      "execution_count": 7,
      "metadata": {
        "id": "lJwUUZscnG38"
      },
      "outputs": [],
      "source": [
        "def windowed_dataset(series, window_size, batch_size, shuffle_buffer):\n",
        "    \"\"\"Generates dataset windows\n",
        "\n",
        "    Args:\n",
        "      series (array of float) - contains the values of the time series\n",
        "      window_size (int) - the number of time steps to include in the feature\n",
        "      batch_size (int) - the batch size\n",
        "      shuffle_buffer(int) - buffer size to use for the shuffle method\n",
        "\n",
        "    Returns:\n",
        "      dataset (TF Dataset) - TF Dataset containing time windows\n",
        "    \"\"\"\n",
        "  \n",
        "    # Generate a TF Dataset from the series values\n",
        "    dataset = tf.data.Dataset.from_tensor_slices(series)\n",
        "    \n",
        "    # Window the data but only take those with the specified size\n",
        "    dataset = dataset.window(window_size + 1, shift=1, drop_remainder=True)\n",
        "    \n",
        "    # Flatten the windows by putting its elements in a single batch\n",
        "    dataset = dataset.flat_map(lambda window: window.batch(window_size + 1))\n",
        "\n",
        "    # Create tuples with features and labels \n",
        "    dataset = dataset.map(lambda window: (window[:-1], window[-1]))\n",
        "\n",
        "    # Shuffle the windows\n",
        "    dataset = dataset.shuffle(shuffle_buffer)\n",
        "    \n",
        "    # Create batches of windows\n",
        "    dataset = dataset.batch(batch_size).prefetch(1)\n",
        "    \n",
        "    return dataset"
      ]
    },
    {
      "cell_type": "code",
      "execution_count": 8,
      "metadata": {
        "id": "9g5zSxZwZQt_"
      },
      "outputs": [],
      "source": [
        "# Parameters\n",
        "window_size = 30\n",
        "batch_size = 32\n",
        "shuffle_buffer_size = 1000\n",
        "\n",
        "# Generate the dataset windows\n",
        "train_set = windowed_dataset(x_train, window_size, batch_size, shuffle_buffer_size)"
      ]
    },
    {
      "cell_type": "markdown",
      "metadata": {
        "id": "_Lhpi42ta5yP"
      },
      "source": [
        "## Build the Model\n",
        "\n",
        "The model will be 3-layer dense network as shown below."
      ]
    },
    {
      "cell_type": "code",
      "execution_count": 9,
      "metadata": {
        "id": "AclfYY3Mn6Ph",
        "colab": {
          "base_uri": "https://localhost:8080/"
        },
        "outputId": "abb8192e-803e-4804-eb79-8fbf259f4ea7"
      },
      "outputs": [
        {
          "output_type": "stream",
          "name": "stdout",
          "text": [
            "Model: \"sequential\"\n",
            "_________________________________________________________________\n",
            " Layer (type)                Output Shape              Param #   \n",
            "=================================================================\n",
            " dense (Dense)               (None, 30)                930       \n",
            "                                                                 \n",
            " dense_1 (Dense)             (None, 10)                310       \n",
            "                                                                 \n",
            " dense_2 (Dense)             (None, 1)                 11        \n",
            "                                                                 \n",
            "=================================================================\n",
            "Total params: 1,251\n",
            "Trainable params: 1,251\n",
            "Non-trainable params: 0\n",
            "_________________________________________________________________\n"
          ]
        }
      ],
      "source": [
        "# Build the model\n",
        "model = tf.keras.models.Sequential([\n",
        "    tf.keras.layers.Dense(30, input_shape=[window_size], activation=\"relu\"), \n",
        "    tf.keras.layers.Dense(10, activation=\"relu\"),\n",
        "    tf.keras.layers.Dense(1)\n",
        "])\n",
        "\n",
        "# Print the model summary\n",
        "model.summary()"
      ]
    },
    {
      "cell_type": "markdown",
      "metadata": {
        "id": "uyT14hQOa97V"
      },
      "source": [
        "## Tune the Learning Rate\n",
        "\n",
        "You can pick a learning rate by running the same learning rate scheduler code from previous labs."
      ]
    },
    {
      "cell_type": "code",
      "execution_count": 10,
      "metadata": {
        "id": "GXiqsZQ1y4nD",
        "colab": {
          "base_uri": "https://localhost:8080/"
        },
        "outputId": "2431f3ae-caa7-4796-f2eb-c11a8bc42889"
      },
      "outputs": [
        {
          "output_type": "stream",
          "name": "stdout",
          "text": [
            "Epoch 1/100\n",
            "93/93 [==============================] - 4s 21ms/step - loss: 46.3652 - lr: 1.0000e-08\n",
            "Epoch 2/100\n",
            "93/93 [==============================] - 2s 16ms/step - loss: 45.9726 - lr: 1.1220e-08\n",
            "Epoch 3/100\n",
            "93/93 [==============================] - 2s 13ms/step - loss: 45.5476 - lr: 1.2589e-08\n",
            "Epoch 4/100\n",
            "93/93 [==============================] - 1s 7ms/step - loss: 45.0952 - lr: 1.4125e-08\n",
            "Epoch 5/100\n",
            "93/93 [==============================] - 1s 5ms/step - loss: 44.6191 - lr: 1.5849e-08\n",
            "Epoch 6/100\n",
            "93/93 [==============================] - 1s 5ms/step - loss: 44.1194 - lr: 1.7783e-08\n",
            "Epoch 7/100\n",
            "93/93 [==============================] - 1s 5ms/step - loss: 43.6032 - lr: 1.9953e-08\n",
            "Epoch 8/100\n",
            "93/93 [==============================] - 1s 5ms/step - loss: 43.0826 - lr: 2.2387e-08\n",
            "Epoch 9/100\n",
            "93/93 [==============================] - 1s 5ms/step - loss: 42.5494 - lr: 2.5119e-08\n",
            "Epoch 10/100\n",
            "93/93 [==============================] - 1s 5ms/step - loss: 42.0055 - lr: 2.8184e-08\n",
            "Epoch 11/100\n",
            "93/93 [==============================] - 1s 5ms/step - loss: 41.4578 - lr: 3.1623e-08\n",
            "Epoch 12/100\n",
            "93/93 [==============================] - 1s 5ms/step - loss: 40.9160 - lr: 3.5481e-08\n",
            "Epoch 13/100\n",
            "93/93 [==============================] - 1s 6ms/step - loss: 40.3881 - lr: 3.9811e-08\n",
            "Epoch 14/100\n",
            "93/93 [==============================] - 1s 6ms/step - loss: 39.8854 - lr: 4.4668e-08\n",
            "Epoch 15/100\n",
            "93/93 [==============================] - 1s 6ms/step - loss: 39.4066 - lr: 5.0119e-08\n",
            "Epoch 16/100\n",
            "93/93 [==============================] - 1s 5ms/step - loss: 38.9394 - lr: 5.6234e-08\n",
            "Epoch 17/100\n",
            "93/93 [==============================] - 1s 5ms/step - loss: 38.4711 - lr: 6.3096e-08\n",
            "Epoch 18/100\n",
            "93/93 [==============================] - 1s 6ms/step - loss: 37.9968 - lr: 7.0795e-08\n",
            "Epoch 19/100\n",
            "93/93 [==============================] - 1s 5ms/step - loss: 37.5223 - lr: 7.9433e-08\n",
            "Epoch 20/100\n",
            "93/93 [==============================] - 1s 5ms/step - loss: 37.0433 - lr: 8.9125e-08\n",
            "Epoch 21/100\n",
            "93/93 [==============================] - 1s 5ms/step - loss: 36.5523 - lr: 1.0000e-07\n",
            "Epoch 22/100\n",
            "93/93 [==============================] - 1s 5ms/step - loss: 36.0276 - lr: 1.1220e-07\n",
            "Epoch 23/100\n",
            "93/93 [==============================] - 1s 5ms/step - loss: 35.4549 - lr: 1.2589e-07\n",
            "Epoch 24/100\n",
            "93/93 [==============================] - 1s 5ms/step - loss: 34.8387 - lr: 1.4125e-07\n",
            "Epoch 25/100\n",
            "93/93 [==============================] - 1s 5ms/step - loss: 34.1806 - lr: 1.5849e-07\n",
            "Epoch 26/100\n",
            "93/93 [==============================] - 1s 5ms/step - loss: 33.4806 - lr: 1.7783e-07\n",
            "Epoch 27/100\n",
            "93/93 [==============================] - 1s 5ms/step - loss: 32.7033 - lr: 1.9953e-07\n",
            "Epoch 28/100\n",
            "93/93 [==============================] - 1s 5ms/step - loss: 31.8882 - lr: 2.2387e-07\n",
            "Epoch 29/100\n",
            "93/93 [==============================] - 1s 6ms/step - loss: 31.0569 - lr: 2.5119e-07\n",
            "Epoch 30/100\n",
            "93/93 [==============================] - 1s 5ms/step - loss: 30.2377 - lr: 2.8184e-07\n",
            "Epoch 31/100\n",
            "93/93 [==============================] - 1s 5ms/step - loss: 29.4389 - lr: 3.1623e-07\n",
            "Epoch 32/100\n",
            "93/93 [==============================] - 1s 5ms/step - loss: 28.6281 - lr: 3.5481e-07\n",
            "Epoch 33/100\n",
            "93/93 [==============================] - 1s 5ms/step - loss: 27.8365 - lr: 3.9811e-07\n",
            "Epoch 34/100\n",
            "93/93 [==============================] - 1s 5ms/step - loss: 27.0660 - lr: 4.4668e-07\n",
            "Epoch 35/100\n",
            "93/93 [==============================] - 1s 4ms/step - loss: 26.3269 - lr: 5.0119e-07\n",
            "Epoch 36/100\n",
            "93/93 [==============================] - 1s 5ms/step - loss: 25.6569 - lr: 5.6234e-07\n",
            "Epoch 37/100\n",
            "93/93 [==============================] - 1s 5ms/step - loss: 25.0338 - lr: 6.3096e-07\n",
            "Epoch 38/100\n",
            "93/93 [==============================] - 1s 5ms/step - loss: 24.4561 - lr: 7.0795e-07\n",
            "Epoch 39/100\n",
            "93/93 [==============================] - 1s 5ms/step - loss: 23.9713 - lr: 7.9433e-07\n",
            "Epoch 40/100\n",
            "93/93 [==============================] - 1s 5ms/step - loss: 23.4964 - lr: 8.9125e-07\n",
            "Epoch 41/100\n",
            "93/93 [==============================] - 1s 4ms/step - loss: 23.0688 - lr: 1.0000e-06\n",
            "Epoch 42/100\n",
            "93/93 [==============================] - 1s 5ms/step - loss: 22.6814 - lr: 1.1220e-06\n",
            "Epoch 43/100\n",
            "93/93 [==============================] - 1s 5ms/step - loss: 22.2954 - lr: 1.2589e-06\n",
            "Epoch 44/100\n",
            "93/93 [==============================] - 1s 5ms/step - loss: 21.9288 - lr: 1.4125e-06\n",
            "Epoch 45/100\n",
            "93/93 [==============================] - 1s 6ms/step - loss: 21.5594 - lr: 1.5849e-06\n",
            "Epoch 46/100\n",
            "93/93 [==============================] - 1s 5ms/step - loss: 21.1660 - lr: 1.7783e-06\n",
            "Epoch 47/100\n",
            "93/93 [==============================] - 1s 5ms/step - loss: 20.8107 - lr: 1.9953e-06\n",
            "Epoch 48/100\n",
            "93/93 [==============================] - 1s 4ms/step - loss: 20.4649 - lr: 2.2387e-06\n",
            "Epoch 49/100\n",
            "93/93 [==============================] - 1s 4ms/step - loss: 20.1228 - lr: 2.5119e-06\n",
            "Epoch 50/100\n",
            "93/93 [==============================] - 1s 5ms/step - loss: 19.7983 - lr: 2.8184e-06\n",
            "Epoch 51/100\n",
            "93/93 [==============================] - 1s 5ms/step - loss: 19.4849 - lr: 3.1623e-06\n",
            "Epoch 52/100\n",
            "93/93 [==============================] - 1s 5ms/step - loss: 19.2390 - lr: 3.5481e-06\n",
            "Epoch 53/100\n",
            "93/93 [==============================] - 1s 5ms/step - loss: 18.9878 - lr: 3.9811e-06\n",
            "Epoch 54/100\n",
            "93/93 [==============================] - 1s 5ms/step - loss: 18.7227 - lr: 4.4668e-06\n",
            "Epoch 55/100\n",
            "93/93 [==============================] - 1s 5ms/step - loss: 18.5875 - lr: 5.0119e-06\n",
            "Epoch 56/100\n",
            "93/93 [==============================] - 1s 5ms/step - loss: 18.3407 - lr: 5.6234e-06\n",
            "Epoch 57/100\n",
            "93/93 [==============================] - 1s 4ms/step - loss: 18.2118 - lr: 6.3096e-06\n",
            "Epoch 58/100\n",
            "93/93 [==============================] - 1s 4ms/step - loss: 18.3047 - lr: 7.0795e-06\n",
            "Epoch 59/100\n",
            "93/93 [==============================] - 1s 6ms/step - loss: 17.7838 - lr: 7.9433e-06\n",
            "Epoch 60/100\n",
            "93/93 [==============================] - 1s 5ms/step - loss: 17.8693 - lr: 8.9125e-06\n",
            "Epoch 61/100\n",
            "93/93 [==============================] - 1s 6ms/step - loss: 18.0080 - lr: 1.0000e-05\n",
            "Epoch 62/100\n",
            "93/93 [==============================] - 1s 5ms/step - loss: 17.7512 - lr: 1.1220e-05\n",
            "Epoch 63/100\n",
            "93/93 [==============================] - 1s 5ms/step - loss: 17.8970 - lr: 1.2589e-05\n",
            "Epoch 64/100\n",
            "93/93 [==============================] - 1s 5ms/step - loss: 17.8775 - lr: 1.4125e-05\n",
            "Epoch 65/100\n",
            "93/93 [==============================] - 1s 5ms/step - loss: 17.7993 - lr: 1.5849e-05\n",
            "Epoch 66/100\n",
            "93/93 [==============================] - 1s 5ms/step - loss: 18.0648 - lr: 1.7783e-05\n",
            "Epoch 67/100\n",
            "93/93 [==============================] - 1s 6ms/step - loss: 18.1273 - lr: 1.9953e-05\n",
            "Epoch 68/100\n",
            "93/93 [==============================] - 1s 6ms/step - loss: 17.4661 - lr: 2.2387e-05\n",
            "Epoch 69/100\n",
            "93/93 [==============================] - 1s 6ms/step - loss: 17.8792 - lr: 2.5119e-05\n",
            "Epoch 70/100\n",
            "93/93 [==============================] - 1s 5ms/step - loss: 17.3848 - lr: 2.8184e-05\n",
            "Epoch 71/100\n",
            "93/93 [==============================] - 1s 4ms/step - loss: 17.4779 - lr: 3.1623e-05\n",
            "Epoch 72/100\n",
            "93/93 [==============================] - 1s 5ms/step - loss: 17.3672 - lr: 3.5481e-05\n",
            "Epoch 73/100\n",
            "93/93 [==============================] - 1s 5ms/step - loss: 17.7643 - lr: 3.9811e-05\n",
            "Epoch 74/100\n",
            "93/93 [==============================] - 1s 6ms/step - loss: 17.1607 - lr: 4.4668e-05\n",
            "Epoch 75/100\n",
            "93/93 [==============================] - 1s 6ms/step - loss: 17.4377 - lr: 5.0119e-05\n",
            "Epoch 76/100\n",
            "93/93 [==============================] - 1s 6ms/step - loss: 17.9824 - lr: 5.6234e-05\n",
            "Epoch 77/100\n",
            "93/93 [==============================] - 1s 5ms/step - loss: 18.0737 - lr: 6.3096e-05\n",
            "Epoch 78/100\n",
            "93/93 [==============================] - 1s 5ms/step - loss: 17.5779 - lr: 7.0795e-05\n",
            "Epoch 79/100\n",
            "93/93 [==============================] - 1s 5ms/step - loss: 18.1060 - lr: 7.9433e-05\n",
            "Epoch 80/100\n",
            "93/93 [==============================] - 1s 5ms/step - loss: 17.7746 - lr: 8.9125e-05\n",
            "Epoch 81/100\n",
            "93/93 [==============================] - 1s 5ms/step - loss: 18.3531 - lr: 1.0000e-04\n",
            "Epoch 82/100\n",
            "93/93 [==============================] - 1s 4ms/step - loss: 19.6363 - lr: 1.1220e-04\n",
            "Epoch 83/100\n",
            "93/93 [==============================] - 1s 5ms/step - loss: 18.6341 - lr: 1.2589e-04\n",
            "Epoch 84/100\n",
            "93/93 [==============================] - 1s 4ms/step - loss: 18.6523 - lr: 1.4125e-04\n",
            "Epoch 85/100\n",
            "93/93 [==============================] - 1s 5ms/step - loss: 18.2255 - lr: 1.5849e-04\n",
            "Epoch 86/100\n",
            "93/93 [==============================] - 1s 5ms/step - loss: 18.0363 - lr: 1.7783e-04\n",
            "Epoch 87/100\n",
            "93/93 [==============================] - 1s 5ms/step - loss: 19.5257 - lr: 1.9953e-04\n",
            "Epoch 88/100\n",
            "93/93 [==============================] - 1s 5ms/step - loss: 18.4305 - lr: 2.2387e-04\n",
            "Epoch 89/100\n",
            "93/93 [==============================] - 1s 5ms/step - loss: 18.4053 - lr: 2.5119e-04\n",
            "Epoch 90/100\n",
            "93/93 [==============================] - 1s 5ms/step - loss: 20.7929 - lr: 2.8184e-04\n",
            "Epoch 91/100\n",
            "93/93 [==============================] - 1s 5ms/step - loss: 20.2173 - lr: 3.1623e-04\n",
            "Epoch 92/100\n",
            "93/93 [==============================] - 1s 5ms/step - loss: 19.4545 - lr: 3.5481e-04\n",
            "Epoch 93/100\n",
            "93/93 [==============================] - 1s 4ms/step - loss: 19.3199 - lr: 3.9811e-04\n",
            "Epoch 94/100\n",
            "93/93 [==============================] - 1s 6ms/step - loss: 21.0930 - lr: 4.4668e-04\n",
            "Epoch 95/100\n",
            "93/93 [==============================] - 1s 5ms/step - loss: 22.8535 - lr: 5.0119e-04\n",
            "Epoch 96/100\n",
            "93/93 [==============================] - 1s 5ms/step - loss: 21.6309 - lr: 5.6234e-04\n",
            "Epoch 97/100\n",
            "93/93 [==============================] - 1s 5ms/step - loss: 24.1808 - lr: 6.3096e-04\n",
            "Epoch 98/100\n",
            "93/93 [==============================] - 1s 4ms/step - loss: 24.1869 - lr: 7.0795e-04\n",
            "Epoch 99/100\n",
            "93/93 [==============================] - 1s 4ms/step - loss: 26.3858 - lr: 7.9433e-04\n",
            "Epoch 100/100\n",
            "93/93 [==============================] - 1s 5ms/step - loss: 31.3380 - lr: 8.9125e-04\n"
          ]
        }
      ],
      "source": [
        "# Set the learning rate scheduler\n",
        "lr_schedule = tf.keras.callbacks.LearningRateScheduler(\n",
        "    lambda epoch: 1e-8 * 10**(epoch / 20))\n",
        "\n",
        "# Initialize the optimizer\n",
        "optimizer = tf.keras.optimizers.SGD(momentum=0.9)\n",
        "\n",
        "# Set the training parameters\n",
        "model.compile(loss=tf.keras.losses.Huber(), optimizer=optimizer)\n",
        "\n",
        "# Train the model\n",
        "history = model.fit(train_set, epochs=100, callbacks=[lr_schedule])"
      ]
    },
    {
      "cell_type": "code",
      "execution_count": 11,
      "metadata": {
        "id": "xJFAB1NTzGJV",
        "colab": {
          "base_uri": "https://localhost:8080/",
          "height": 405
        },
        "outputId": "959464b1-4127-4cea-921a-81dcc6b396f8"
      },
      "outputs": [
        {
          "output_type": "execute_result",
          "data": {
            "text/plain": [
              "(1e-08, 0.001, 0.0, 100.0)"
            ]
          },
          "metadata": {},
          "execution_count": 11
        },
        {
          "output_type": "display_data",
          "data": {
            "text/plain": [
              "<Figure size 720x432 with 1 Axes>"
            ],
            "image/png": "[encoded data removed]"
          },
          "metadata": {
            "needs_background": "light"
          }
        }
      ],
      "source": [
        "# Define the learning rate array\n",
        "lrs = 1e-8 * (10 ** (np.arange(100) / 20))\n",
        "\n",
        "# Set the figure size\n",
        "plt.figure(figsize=(10, 6))\n",
        "\n",
        "# Set the grid\n",
        "plt.grid(True)\n",
        "\n",
        "# Plot the loss in log scale\n",
        "plt.semilogx(lrs, history.history[\"loss\"])\n",
        "\n",
        "# Increase the tickmarks size\n",
        "plt.tick_params('both', length=10, width=1, which='both')\n",
        "\n",
        "# Set the plot boundaries\n",
        "plt.axis([1e-8, 1e-3, 0, 100])"
      ]
    },
    {
      "cell_type": "markdown",
      "metadata": {
        "id": "oY4mnUpNbFdc"
      },
      "source": [
        "## Train the Model\n",
        "\n",
        "Once you've picked a learning rate, you can rebuild the model and start training."
      ]
    },
    {
      "cell_type": "code",
      "execution_count": 12,
      "metadata": {
        "id": "Ngna3zR4znJd"
      },
      "outputs": [],
      "source": [
        "# Reset states generated by Keras\n",
        "tf.keras.backend.clear_session()\n",
        "\n",
        "# Build the Model\n",
        "model = tf.keras.models.Sequential([\n",
        "    tf.keras.layers.Dense(30, input_shape=[window_size], activation=\"relu\"), \n",
        "    tf.keras.layers.Dense(10, activation=\"relu\"),\n",
        "    tf.keras.layers.Dense(1)\n",
        "])"
      ]
    },
    {
      "cell_type": "code",
      "execution_count": 13,
      "metadata": {
        "id": "7FKXvEYxzuoc",
        "colab": {
          "base_uri": "https://localhost:8080/"
        },
        "outputId": "22b558d5-6407-4908-ba20-7cd37a0a4625"
      },
      "outputs": [
        {
          "output_type": "stream",
          "name": "stdout",
          "text": [
            "Epoch 1/100\n",
            "93/93 [==============================] - 1s 5ms/step - loss: 31.4304 - mae: 31.9248\n",
            "Epoch 2/100\n",
            "93/93 [==============================] - 1s 5ms/step - loss: 20.3167 - mae: 20.8111\n",
            "Epoch 3/100\n",
            "93/93 [==============================] - 1s 5ms/step - loss: 19.4870 - mae: 19.9803\n",
            "Epoch 4/100\n",
            "93/93 [==============================] - 1s 6ms/step - loss: 19.0450 - mae: 19.5371\n",
            "Epoch 5/100\n",
            "93/93 [==============================] - 1s 5ms/step - loss: 18.9070 - mae: 19.4000\n",
            "Epoch 6/100\n",
            "93/93 [==============================] - 1s 5ms/step - loss: 18.6652 - mae: 19.1585\n",
            "Epoch 7/100\n",
            "93/93 [==============================] - 1s 5ms/step - loss: 18.4102 - mae: 18.9022\n",
            "Epoch 8/100\n",
            "93/93 [==============================] - 1s 5ms/step - loss: 18.6023 - mae: 19.0953\n",
            "Epoch 9/100\n",
            "93/93 [==============================] - 1s 5ms/step - loss: 18.3376 - mae: 18.8306\n",
            "Epoch 10/100\n",
            "93/93 [==============================] - 1s 5ms/step - loss: 18.1161 - mae: 18.6076\n",
            "Epoch 11/100\n",
            "93/93 [==============================] - 1s 5ms/step - loss: 18.1401 - mae: 18.6352\n",
            "Epoch 12/100\n",
            "93/93 [==============================] - 1s 5ms/step - loss: 17.9412 - mae: 18.4330\n",
            "Epoch 13/100\n",
            "93/93 [==============================] - 1s 5ms/step - loss: 18.0424 - mae: 18.5356\n",
            "Epoch 14/100\n",
            "93/93 [==============================] - 1s 5ms/step - loss: 17.8652 - mae: 18.3570\n",
            "Epoch 15/100\n",
            "93/93 [==============================] - 1s 6ms/step - loss: 17.7093 - mae: 18.2018\n",
            "Epoch 16/100\n",
            "93/93 [==============================] - 1s 6ms/step - loss: 17.9603 - mae: 18.4513\n",
            "Epoch 17/100\n",
            "93/93 [==============================] - 1s 6ms/step - loss: 17.5546 - mae: 18.0460\n",
            "Epoch 18/100\n",
            "93/93 [==============================] - 1s 6ms/step - loss: 17.7373 - mae: 18.2300\n",
            "Epoch 19/100\n",
            "93/93 [==============================] - 1s 5ms/step - loss: 17.4409 - mae: 17.9332\n",
            "Epoch 20/100\n",
            "93/93 [==============================] - 1s 5ms/step - loss: 17.5912 - mae: 18.0840\n",
            "Epoch 21/100\n",
            "93/93 [==============================] - 1s 5ms/step - loss: 17.4329 - mae: 17.9260\n",
            "Epoch 22/100\n",
            "93/93 [==============================] - 1s 5ms/step - loss: 17.4641 - mae: 17.9550\n",
            "Epoch 23/100\n",
            "93/93 [==============================] - 1s 6ms/step - loss: 17.5063 - mae: 17.9979\n",
            "Epoch 24/100\n",
            "93/93 [==============================] - 1s 5ms/step - loss: 17.2806 - mae: 17.7720\n",
            "Epoch 25/100\n",
            "93/93 [==============================] - 1s 6ms/step - loss: 17.3058 - mae: 17.7972\n",
            "Epoch 26/100\n",
            "93/93 [==============================] - 1s 5ms/step - loss: 17.3051 - mae: 17.7973\n",
            "Epoch 27/100\n",
            "93/93 [==============================] - 1s 5ms/step - loss: 17.2720 - mae: 17.7640\n",
            "Epoch 28/100\n",
            "93/93 [==============================] - 1s 12ms/step - loss: 17.2444 - mae: 17.7357\n",
            "Epoch 29/100\n",
            "93/93 [==============================] - 1s 9ms/step - loss: 17.3378 - mae: 17.8288\n",
            "Epoch 30/100\n",
            "93/93 [==============================] - 1s 6ms/step - loss: 17.2759 - mae: 17.7664\n",
            "Epoch 31/100\n",
            "93/93 [==============================] - 1s 5ms/step - loss: 17.2742 - mae: 17.7661\n",
            "Epoch 32/100\n",
            "93/93 [==============================] - 1s 5ms/step - loss: 17.0497 - mae: 17.5412\n",
            "Epoch 33/100\n",
            "93/93 [==============================] - 1s 6ms/step - loss: 17.0877 - mae: 17.5797\n",
            "Epoch 34/100\n",
            "93/93 [==============================] - 1s 5ms/step - loss: 17.0882 - mae: 17.5774\n",
            "Epoch 35/100\n",
            "93/93 [==============================] - 1s 5ms/step - loss: 16.9934 - mae: 17.4851\n",
            "Epoch 36/100\n",
            "93/93 [==============================] - 1s 6ms/step - loss: 17.0875 - mae: 17.5777\n",
            "Epoch 37/100\n",
            "93/93 [==============================] - 1s 6ms/step - loss: 17.0093 - mae: 17.5011\n",
            "Epoch 38/100\n",
            "93/93 [==============================] - 1s 6ms/step - loss: 17.0605 - mae: 17.5515\n",
            "Epoch 39/100\n",
            "93/93 [==============================] - 1s 5ms/step - loss: 17.0553 - mae: 17.5476\n",
            "Epoch 40/100\n",
            "93/93 [==============================] - 1s 6ms/step - loss: 16.9722 - mae: 17.4640\n",
            "Epoch 41/100\n",
            "93/93 [==============================] - 1s 5ms/step - loss: 16.9851 - mae: 17.4764\n",
            "Epoch 42/100\n",
            "93/93 [==============================] - 1s 5ms/step - loss: 17.1698 - mae: 17.6621\n",
            "Epoch 43/100\n",
            "93/93 [==============================] - 1s 5ms/step - loss: 16.9948 - mae: 17.4859\n",
            "Epoch 44/100\n",
            "93/93 [==============================] - 1s 6ms/step - loss: 17.0291 - mae: 17.5202\n",
            "Epoch 45/100\n",
            "93/93 [==============================] - 1s 5ms/step - loss: 16.8638 - mae: 17.3536\n",
            "Epoch 46/100\n",
            "93/93 [==============================] - 1s 5ms/step - loss: 16.8985 - mae: 17.3890\n",
            "Epoch 47/100\n",
            "93/93 [==============================] - 1s 5ms/step - loss: 16.9297 - mae: 17.4209\n",
            "Epoch 48/100\n",
            "93/93 [==============================] - 1s 5ms/step - loss: 16.8593 - mae: 17.3506\n",
            "Epoch 49/100\n",
            "93/93 [==============================] - 1s 4ms/step - loss: 16.9893 - mae: 17.4805\n",
            "Epoch 50/100\n",
            "93/93 [==============================] - 1s 5ms/step - loss: 17.0608 - mae: 17.5521\n",
            "Epoch 51/100\n",
            "93/93 [==============================] - 1s 5ms/step - loss: 16.8732 - mae: 17.3628\n",
            "Epoch 52/100\n",
            "93/93 [==============================] - 1s 6ms/step - loss: 16.8855 - mae: 17.3766\n",
            "Epoch 53/100\n",
            "93/93 [==============================] - 1s 5ms/step - loss: 16.8551 - mae: 17.3452\n",
            "Epoch 54/100\n",
            "93/93 [==============================] - 1s 5ms/step - loss: 16.8812 - mae: 17.3717\n",
            "Epoch 55/100\n",
            "93/93 [==============================] - 1s 5ms/step - loss: 17.0375 - mae: 17.5286\n",
            "Epoch 56/100\n",
            "93/93 [==============================] - 1s 6ms/step - loss: 16.7795 - mae: 17.2697\n",
            "Epoch 57/100\n",
            "93/93 [==============================] - 1s 5ms/step - loss: 17.0416 - mae: 17.5327\n",
            "Epoch 58/100\n",
            "93/93 [==============================] - 1s 5ms/step - loss: 16.9200 - mae: 17.4111\n",
            "Epoch 59/100\n",
            "93/93 [==============================] - 1s 5ms/step - loss: 16.8906 - mae: 17.3801\n",
            "Epoch 60/100\n",
            "93/93 [==============================] - 1s 5ms/step - loss: 16.8335 - mae: 17.3243\n",
            "Epoch 61/100\n",
            "93/93 [==============================] - 1s 5ms/step - loss: 16.8620 - mae: 17.3525\n",
            "Epoch 62/100\n",
            "93/93 [==============================] - 1s 5ms/step - loss: 16.8903 - mae: 17.3809\n",
            "Epoch 63/100\n",
            "93/93 [==============================] - 1s 6ms/step - loss: 16.9094 - mae: 17.3996\n",
            "Epoch 64/100\n",
            "93/93 [==============================] - 1s 5ms/step - loss: 16.8592 - mae: 17.3503\n",
            "Epoch 65/100\n",
            "93/93 [==============================] - 1s 6ms/step - loss: 16.8974 - mae: 17.3877\n",
            "Epoch 66/100\n",
            "93/93 [==============================] - 1s 6ms/step - loss: 16.7812 - mae: 17.2722\n",
            "Epoch 67/100\n",
            "93/93 [==============================] - 1s 5ms/step - loss: 16.9259 - mae: 17.4171\n",
            "Epoch 68/100\n",
            "93/93 [==============================] - 1s 6ms/step - loss: 16.7774 - mae: 17.2678\n",
            "Epoch 69/100\n",
            "93/93 [==============================] - 1s 5ms/step - loss: 16.8872 - mae: 17.3786\n",
            "Epoch 70/100\n",
            "93/93 [==============================] - 1s 5ms/step - loss: 16.8610 - mae: 17.3518\n",
            "Epoch 71/100\n",
            "93/93 [==============================] - 1s 6ms/step - loss: 16.7674 - mae: 17.2588\n",
            "Epoch 72/100\n",
            "93/93 [==============================] - 1s 6ms/step - loss: 16.7663 - mae: 17.2559\n",
            "Epoch 73/100\n",
            "93/93 [==============================] - 1s 5ms/step - loss: 16.7560 - mae: 17.2462\n",
            "Epoch 74/100\n",
            "93/93 [==============================] - 1s 5ms/step - loss: 16.8221 - mae: 17.3126\n",
            "Epoch 75/100\n",
            "93/93 [==============================] - 1s 5ms/step - loss: 16.8137 - mae: 17.3035\n",
            "Epoch 76/100\n",
            "93/93 [==============================] - 1s 6ms/step - loss: 16.9350 - mae: 17.4266\n",
            "Epoch 77/100\n",
            "93/93 [==============================] - 1s 6ms/step - loss: 16.8736 - mae: 17.3631\n",
            "Epoch 78/100\n",
            "93/93 [==============================] - 1s 5ms/step - loss: 16.6902 - mae: 17.1815\n",
            "Epoch 79/100\n",
            "93/93 [==============================] - 1s 5ms/step - loss: 16.7885 - mae: 17.2807\n",
            "Epoch 80/100\n",
            "93/93 [==============================] - 1s 5ms/step - loss: 16.7757 - mae: 17.2661\n",
            "Epoch 81/100\n",
            "93/93 [==============================] - 1s 6ms/step - loss: 16.6607 - mae: 17.1513\n",
            "Epoch 82/100\n",
            "93/93 [==============================] - 1s 6ms/step - loss: 16.8923 - mae: 17.3834\n",
            "Epoch 83/100\n",
            "93/93 [==============================] - 1s 5ms/step - loss: 16.7266 - mae: 17.2159\n",
            "Epoch 84/100\n",
            "93/93 [==============================] - 1s 6ms/step - loss: 16.8339 - mae: 17.3247\n",
            "Epoch 85/100\n",
            "93/93 [==============================] - 1s 6ms/step - loss: 16.7011 - mae: 17.1912\n",
            "Epoch 86/100\n",
            "93/93 [==============================] - 1s 6ms/step - loss: 16.5846 - mae: 17.0743\n",
            "Epoch 87/100\n",
            "93/93 [==============================] - 1s 5ms/step - loss: 16.6234 - mae: 17.1153\n",
            "Epoch 88/100\n",
            "93/93 [==============================] - 1s 5ms/step - loss: 16.6480 - mae: 17.1380\n",
            "Epoch 89/100\n",
            "93/93 [==============================] - 1s 6ms/step - loss: 16.7003 - mae: 17.1910\n",
            "Epoch 90/100\n",
            "93/93 [==============================] - 1s 6ms/step - loss: 16.5803 - mae: 17.0703\n",
            "Epoch 91/100\n",
            "93/93 [==============================] - 1s 5ms/step - loss: 16.7085 - mae: 17.1993\n",
            "Epoch 92/100\n",
            "93/93 [==============================] - 1s 5ms/step - loss: 16.6572 - mae: 17.1471\n",
            "Epoch 93/100\n",
            "93/93 [==============================] - 1s 5ms/step - loss: 16.6767 - mae: 17.1675\n",
            "Epoch 94/100\n",
            "93/93 [==============================] - 1s 6ms/step - loss: 16.8252 - mae: 17.3160\n",
            "Epoch 95/100\n",
            "93/93 [==============================] - 1s 5ms/step - loss: 16.6379 - mae: 17.1285\n",
            "Epoch 96/100\n",
            "93/93 [==============================] - 1s 5ms/step - loss: 16.8689 - mae: 17.3601\n",
            "Epoch 97/100\n",
            "93/93 [==============================] - 1s 5ms/step - loss: 16.6865 - mae: 17.1762\n",
            "Epoch 98/100\n",
            "93/93 [==============================] - 1s 5ms/step - loss: 16.6908 - mae: 17.1813\n",
            "Epoch 99/100\n",
            "93/93 [==============================] - 1s 5ms/step - loss: 17.0758 - mae: 17.5681\n",
            "Epoch 100/100\n",
            "93/93 [==============================] - 1s 5ms/step - loss: 16.6230 - mae: 17.1130\n"
          ]
        }
      ],
      "source": [
        "# Set the learning rate\n",
        "learning_rate = 2e-5\n",
        "\n",
        "# Set the optimizer \n",
        "optimizer = tf.keras.optimizers.SGD(learning_rate=learning_rate, momentum=0.9)\n",
        "\n",
        "# Set the training parameters\n",
        "model.compile(loss=tf.keras.losses.Huber(),\n",
        "              optimizer=optimizer,\n",
        "              metrics=[\"mae\"])\n",
        "\n",
        "# Train the model\n",
        "history = model.fit(train_set,epochs=100)"
      ]
    },
    {
      "cell_type": "markdown",
      "metadata": {
        "id": "b1iV2t8ibIka"
      },
      "source": [
        "## Model Prediction\n",
        "\n",
        "Now see if the model generates good results. If you used the default parameters of this notebook, you should see the predictions follow the shape of the ground truth with an MAE of around 15. "
      ]
    },
    {
      "cell_type": "code",
      "execution_count": 14,
      "metadata": {
        "id": "djn06Tri2B6_"
      },
      "outputs": [],
      "source": [
        "def model_forecast(model, series, window_size, batch_size):\n",
        "    \"\"\"Uses an input model to generate predictions on data windows\n",
        "\n",
        "    Args:\n",
        "      model (TF Keras Model) - model that accepts data windows\n",
        "      series (array of float) - contains the values of the time series\n",
        "      window_size (int) - the number of time steps to include in the window\n",
        "      batch_size (int) - the batch size\n",
        "\n",
        "    Returns:\n",
        "      forecast (numpy array) - array containing predictions\n",
        "    \"\"\"\n",
        "\n",
        "    # Generate a TF Dataset from the series values\n",
        "    dataset = tf.data.Dataset.from_tensor_slices(series)\n",
        "\n",
        "    # Window the data but only take those with the specified size\n",
        "    dataset = dataset.window(window_size, shift=1, drop_remainder=True)\n",
        "\n",
        "    # Flatten the windows by putting its elements in a single batch\n",
        "    dataset = dataset.flat_map(lambda w: w.batch(window_size))\n",
        "    \n",
        "    # Create batches of windows\n",
        "    dataset = dataset.batch(batch_size).prefetch(1)\n",
        "    \n",
        "    # Get predictions on the entire dataset\n",
        "    forecast = model.predict(dataset)\n",
        "    \n",
        "    return forecast"
      ]
    },
    {
      "cell_type": "code",
      "execution_count": 15,
      "metadata": {
        "id": "GaC6NNMRp0lb",
        "colab": {
          "base_uri": "https://localhost:8080/",
          "height": 391
        },
        "outputId": "3eb8a53e-1147-42de-cf03-4c0a9763f4aa"
      },
      "outputs": [
        {
          "output_type": "stream",
          "name": "stdout",
          "text": [
            "8/8 [==============================] - 0s 8ms/step\n"
          ]
        },
        {
          "output_type": "display_data",
          "data": {
            "text/plain": [
              "<Figure size 720x432 with 1 Axes>"
            ],
            "image/png": "[encoded data removed]"
          },
          "metadata": {
            "needs_background": "light"
          }
        }
      ],
      "source": [
        "# Reduce the original series\n",
        "forecast_series = series[split_time-window_size:-1]\n",
        "\n",
        "# Use helper function to generate predictions\n",
        "forecast = model_forecast(model, forecast_series, window_size, batch_size)\n",
        "\n",
        "# Drop single dimensional axis\n",
        "results = forecast.squeeze()\n",
        "\n",
        "# Plot the results\n",
        "plot_series(time_valid, (x_valid, results))"
      ]
    },
    {
      "cell_type": "code",
      "execution_count": 16,
      "metadata": {
        "id": "13XrorC5wQoE",
        "colab": {
          "base_uri": "https://localhost:8080/"
        },
        "outputId": "6250987f-0106-44f9-cdce-6d700bb4605d"
      },
      "outputs": [
        {
          "output_type": "stream",
          "name": "stdout",
          "text": [
            "15.135241\n"
          ]
        }
      ],
      "source": [
        "# Compute the MAE\n",
        "print(tf.keras.metrics.mean_absolute_error(x_valid, results).numpy())"
      ]
    },
    {
      "cell_type": "markdown",
      "metadata": {
        "id": "YqMGN9S5veN2"
      },
      "source": [
        "## Wrap Up\n",
        "\n",
        "In this lab, you built a relatively simple DNN to forecast sunspot numbers for a given month. We encourage you to tweak the parameters or train longer and see the best results you can get. In the next lab, you will build a more complex model and you evaluate if the added complexity translates to better or worse results."
      ]
    }
  ],
  "metadata": {
    "colab": {
      "provenance": []
    },
    "kernelspec": {
      "display_name": "Python 3",
      "language": "python",
      "name": "python3"
    },
    "language_info": {
      "codemirror_mode": {
        "name": "ipython",
        "version": 3
      },
      "file_extension": ".py",
      "mimetype": "text/x-python",
      "name": "python",
      "nbconvert_exporter": "python",
      "pygments_lexer": "ipython3",
      "version": "3.7.4"
    },
    "gpuClass": "standard"
  },
  "nbformat": 4,
  "nbformat_minor": 0
}